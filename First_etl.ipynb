{
 "cells": [
  {
   "cell_type": "code",
   "execution_count": 73,
   "metadata": {
    "collapsed": true
   },
   "outputs": [],
   "source": [
    "import requests\n",
    "url = 'http://web.pcc.gov.tw/tps/pss/tender.do?searchMode=common&searchType=basic'\n",
    "playload={\n",
    "'method':'search',\n",
    "'searchMethod':'true',\n",
    "'hid_1':'1',\n",
    "'tenderType':'tenderDeclaration',\n",
    "'tenderWay':'1,2,3,4,5,6,7,10,12',\n",
    "'tenderDateRadio':'on',\n",
    "'tenderStartDateStr':'105/02/19',\n",
    "'tenderEndDateStr':'105/02/25',\n",
    "'tenderStartDate':'105/02/25',\n",
    "'tenderEndDate':'105/02/25',\n",
    "'isSpdt':'N',\n",
    "'proctrgCate':'3',\n",
    "'radProctrgCate':'3',\n",
    "'btnQuery':'查詢'\n",
    "}\n",
    "res =  requests.session()\n",
    "res_post = res.post(url,data =playload)\n",
    "pages='http://web.pcc.gov.tw/tps/pss/tender.do?searchMode=common&searchType=basic&method=search&isSpdt=&pageIndex={}'\n"
   ]
  },
  {
   "cell_type": "code",
   "execution_count": 128,
   "metadata": {
    "collapsed": false
   },
   "outputs": [],
   "source": [
    "f = open('test_grabData/.txt','w')\n",
    "from bs4 import BeautifulSoup as bs\n",
    "for page in xrange(0,5):\n",
    "    newUrl = pages.format(page)\n",
    "    res_get = res.get(newUrl)\n",
    "    soup = bs(res_get.text)\n",
    "    #div = soup.select('#print_area')[0]\n",
    "    #trs = div.select('tr')[1:-1]\n",
    "    #for tr in trs:\n",
    "    for tr in soup.select('#print_area tr')[1:-1]:\n",
    "        f.write('http://web.pcc.gov.tw/tps/' + tr.select('a')[0]['href'][3:])\n",
    "f.close()        "
   ]
  },
  {
   "cell_type": "code",
   "execution_count": 129,
   "metadata": {
    "collapsed": false
   },
   "outputs": [
    {
     "name": "stdout",
     "output_type": "stream",
     "text": [
      "http://web.pcc.gov.tw/tps/tpam/main/tps/tpam/tpam_tender_detail.do?searchMode=common&scope=F&primaryKey=51818892\n",
      "\n"
     ]
    }
   ],
   "source": [
    "f = open('test_grabData/links.txt','r')\n",
    "urls = f.readlines()\n",
    "f.close()\n",
    "print urls[1]"
   ]
  },
  {
   "cell_type": "code",
   "execution_count": 130,
   "metadata": {
    "collapsed": false
   },
   "outputs": [],
   "source": [
    "for eachUrl in xrange(0,10):#urls:\n",
    "    fileId = urls[eachUrl].strip().split('primaryKey=')[1]\n",
    "    re = requests.get(urls[0])\n",
    "    f = open('./test_grabData/gov/' + fileId +'.txt','w')\n",
    "    f.write(re.text.strip().encode('utf-8'))"
   ]
  }
 ],
 "metadata": {
  "kernelspec": {
   "display_name": "Python 2",
   "language": "python",
   "name": "python2"
  },
  "language_info": {
   "codemirror_mode": {
    "name": "ipython",
    "version": 2
   },
   "file_extension": ".py",
   "mimetype": "text/x-python",
   "name": "python",
   "nbconvert_exporter": "python",
   "pygments_lexer": "ipython2",
   "version": "2.7.11"
  }
 },
 "nbformat": 4,
 "nbformat_minor": 0
}
