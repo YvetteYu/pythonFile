{
 "cells": [
  {
   "cell_type": "code",
   "execution_count": 4,
   "metadata": {
    "collapsed": false
   },
   "outputs": [
    {
     "name": "stderr",
     "output_type": "stream",
     "text": [
      "/Users/yvette/anaconda/lib/python2.7/site-packages/requests/packages/urllib3/connectionpool.py:791: InsecureRequestWarning: Unverified HTTPS request is being made. Adding certificate verification is strongly advised. See: https://urllib3.readthedocs.org/en/latest/security.html\n",
      "  InsecureRequestWarning)\n"
     ]
    }
   ],
   "source": [
    "import requests\n",
    "payload= {\n",
    "'from':'/bbs/Gossiping/M.1462033991.A.E82.html',\n",
    "'yes':'yes'\n",
    "}\n",
    "#rs = requests.session()\n",
    "#res = rs.post(\"https://www.ptt.cc/ask/over18\", verify = False, data = payload)\n",
    "#res2 = rs.get('https://www.ptt.cc/bbs/Gossiping/M.1462033991.A.E82.html', verify = False)\n",
    "res2 = requests.get('https://www.ptt.cc/bbs/Gossiping/M.1462033991.A.E82.html', verify = False, cookies={'over18':'1'})"
   ]
  },
  {
   "cell_type": "code",
   "execution_count": 5,
   "metadata": {
    "collapsed": false
   },
   "outputs": [
    {
     "name": "stderr",
     "output_type": "stream",
     "text": [
      "/Users/yvette/anaconda/lib/python2.7/site-packages/bs4/__init__.py:166: UserWarning: No parser was explicitly specified, so I'm using the best available HTML parser for this system (\"lxml\"). This usually isn't a problem, but if you run this code on another system, or in a different virtual environment, it may use a different parser and behave differently.\n",
      "\n",
      "To get rid of this warning, change this:\n",
      "\n",
      " BeautifulSoup([your markup])\n",
      "\n",
      "to this:\n",
      "\n",
      " BeautifulSoup([your markup], \"lxml\")\n",
      "\n",
      "  markup_type=markup_type))\n"
     ]
    }
   ],
   "source": [
    "from bs4 import BeautifulSoup as bs\n",
    "soup = bs(res2.text)"
   ]
  },
  {
   "cell_type": "code",
   "execution_count": 6,
   "metadata": {
    "collapsed": false,
    "scrolled": true
   },
   "outputs": [
    {
     "name": "stdout",
     "output_type": "stream",
     "text": [
      "114.27.20.110\n",
      "\n"
     ]
    }
   ],
   "source": [
    "ptt_ip = soup.select('.f2')[0].text.encode('utf-8').split(\"來自: \")[1]\n",
    "print ptt_ip"
   ]
  },
  {
   "cell_type": "code",
   "execution_count": 7,
   "metadata": {
    "collapsed": false
   },
   "outputs": [],
   "source": [
    "split_head = soup.select('.article-meta-value')[3].text.encode('utf-8')\n",
    "split_tail = soup.select('.f2')[0].text.encode('utf-8')\n",
    "ptt_content = soup.select('#main-content')[0].text.encode('utf-8').split(split_head)[1].split(split_tail)[0].strip()\n"
   ]
  },
  {
   "cell_type": "code",
   "execution_count": 9,
   "metadata": {
    "collapsed": false
   },
   "outputs": [],
   "source": [
    "con = ptt_content.split('--')[0:-1]\n",
    "#print soup.select('#main-content')[0].text"
   ]
  },
  {
   "cell_type": "code",
   "execution_count": 10,
   "metadata": {
    "collapsed": false
   },
   "outputs": [
    {
     "ename": "TypeError",
     "evalue": "__init__() got an unexpected keyword argument 'encode'",
     "output_type": "error",
     "traceback": [
      "\u001b[0;31m---------------------------------------------------------------------------\u001b[0m",
      "\u001b[0;31mTypeError\u001b[0m                                 Traceback (most recent call last)",
      "\u001b[0;32m<ipython-input-10-c2f83e63366b>\u001b[0m in \u001b[0;36m<module>\u001b[0;34m()\u001b[0m\n\u001b[1;32m     37\u001b[0m      \u001b[0;34m'rid'\u001b[0m\u001b[0;34m:\u001b[0m\u001b[0;36m0\u001b[0m\u001b[0;34m\u001b[0m\u001b[0m\n\u001b[1;32m     38\u001b[0m     }\n\u001b[0;32m---> 39\u001b[0;31m     \u001b[0mfin\u001b[0m\u001b[0;34m.\u001b[0m\u001b[0mwrite\u001b[0m\u001b[0;34m(\u001b[0m\u001b[0mjson\u001b[0m\u001b[0;34m.\u001b[0m\u001b[0mdumps\u001b[0m\u001b[0;34m(\u001b[0m\u001b[0mmsg\u001b[0m\u001b[0;34m,\u001b[0m \u001b[0mencode\u001b[0m\u001b[0;34m=\u001b[0m\u001b[0;34m'utf8'\u001b[0m\u001b[0;34m)\u001b[0m\u001b[0;34m)\u001b[0m\u001b[0;34m\u001b[0m\u001b[0m\n\u001b[0m",
      "\u001b[0;32m/Users/yvette/anaconda/lib/python2.7/json/__init__.pyc\u001b[0m in \u001b[0;36mdumps\u001b[0;34m(obj, skipkeys, ensure_ascii, check_circular, allow_nan, cls, indent, separators, encoding, default, sort_keys, **kw)\u001b[0m\n\u001b[1;32m    249\u001b[0m         \u001b[0mcheck_circular\u001b[0m\u001b[0;34m=\u001b[0m\u001b[0mcheck_circular\u001b[0m\u001b[0;34m,\u001b[0m \u001b[0mallow_nan\u001b[0m\u001b[0;34m=\u001b[0m\u001b[0mallow_nan\u001b[0m\u001b[0;34m,\u001b[0m \u001b[0mindent\u001b[0m\u001b[0;34m=\u001b[0m\u001b[0mindent\u001b[0m\u001b[0;34m,\u001b[0m\u001b[0;34m\u001b[0m\u001b[0m\n\u001b[1;32m    250\u001b[0m         \u001b[0mseparators\u001b[0m\u001b[0;34m=\u001b[0m\u001b[0mseparators\u001b[0m\u001b[0;34m,\u001b[0m \u001b[0mencoding\u001b[0m\u001b[0;34m=\u001b[0m\u001b[0mencoding\u001b[0m\u001b[0;34m,\u001b[0m \u001b[0mdefault\u001b[0m\u001b[0;34m=\u001b[0m\u001b[0mdefault\u001b[0m\u001b[0;34m,\u001b[0m\u001b[0;34m\u001b[0m\u001b[0m\n\u001b[0;32m--> 251\u001b[0;31m         sort_keys=sort_keys, **kw).encode(obj)\n\u001b[0m\u001b[1;32m    252\u001b[0m \u001b[0;34m\u001b[0m\u001b[0m\n\u001b[1;32m    253\u001b[0m \u001b[0;34m\u001b[0m\u001b[0m\n",
      "\u001b[0;31mTypeError\u001b[0m: __init__() got an unexpected keyword argument 'encode'"
     ]
    }
   ],
   "source": [
    "import json\n",
    "rank=0\n",
    "push = soup.select('.push')\n",
    "with open('1462033991.json','a') as fin:\n",
    "    for i in range(0,10):#len(push)-1):\n",
    "        if i!=999:\n",
    "            push_authoer= push[i].select('span')[1].text\n",
    "            push_content= push[i].select('span')[2].text.encode('utf-8').split(':')[1].strip()\n",
    "            push_rank = push[i].select('span')[0].text\n",
    "            #print i\n",
    "            ptt_status=0\n",
    "            if push_rank == u\"噓 \":\n",
    "                rank = rank-1\n",
    "                ptt_status = -1\n",
    "            if push_rank == u\"推 \":\n",
    "                rank = rank+1\n",
    "                ptt_status = 1\n",
    "            pushMsg = {\n",
    "             'content':push_content,\n",
    "             'date':soup.select('.article-meta-value')[3].text,\n",
    "             'status':push_rank,\n",
    "             'author':push_authoer,\n",
    "             'title':soup.select('.article-meta-value')[2].text,\n",
    "             'board':soup.select('.article-meta-value')[1].text,\n",
    "             'ip':None,\n",
    "             'rid':i             \n",
    "             }\n",
    "            fin.write(json.dumps(pushMsg))\n",
    "    msg={\n",
    "     'content':ptt_content,\n",
    "     'date':soup.select('.article-meta-value')[3].text,\n",
    "     'status':rank,\n",
    "     'author':soup.select('.article-meta-value')[0].text,\n",
    "     'title':soup.select('.article-meta-value')[2].text,\n",
    "     'board':soup.select('.article-meta-value')[1].text,\n",
    "     'ip':ptt_ip,\n",
    "     'rid':0\n",
    "    }\n",
    "    fin.write(json.dumps(msg, encode='utf8'))       "
   ]
  },
  {
   "cell_type": "code",
   "execution_count": 170,
   "metadata": {
    "collapsed": false
   },
   "outputs": [
    {
     "name": "stdout",
     "output_type": "stream",
     "text": [
      "<div class=\"push\"><span class=\"hl push-tag\">推 </span><span class=\"f3 hl push-userid\">GalLe5566</span><span class=\"f3 push-content\">: 早喔 都早~</span><span class=\"push-ipdatetime\"> 05/05 08:18\n",
      "</span></div>\n"
     ]
    }
   ],
   "source": [
    "print push[998]"
   ]
  },
  {
   "cell_type": "code",
   "execution_count": 166,
   "metadata": {
    "collapsed": false
   },
   "outputs": [
    {
     "name": "stdout",
     "output_type": "stream",
     "text": [
      "{\"content\": \"\\u5653\\u7684\\u901a\\u901a\\u9001\\u7d66\\u56db\\u53c9\\u8c93(?\", \"status\": \"\\u2192 \", \"board\": \"Gossiping\", \"author\": \"Bignana\", \"date\": \"Sun May  1 00:33:08 2016\", \"ip\": null, \"rid\": 9, \"title\": \"[\\u516c\\u544a] \\u4e94\\u6708\\u4efd\\u7f6e\\u5e95\\u9592\\u804a\\u6587\"}\n"
     ]
    }
   ],
   "source": [
    "print json.dumps(pushMsg)"
   ]
  },
  {
   "cell_type": "code",
   "execution_count": null,
   "metadata": {
    "collapsed": true
   },
   "outputs": [],
   "source": []
  }
 ],
 "metadata": {
  "kernelspec": {
   "display_name": "Python 2",
   "language": "python",
   "name": "python2"
  },
  "language_info": {
   "codemirror_mode": {
    "name": "ipython",
    "version": 2
   },
   "file_extension": ".py",
   "mimetype": "text/x-python",
   "name": "python",
   "nbconvert_exporter": "python",
   "pygments_lexer": "ipython2",
   "version": "2.7.11"
  }
 },
 "nbformat": 4,
 "nbformat_minor": 0
}
