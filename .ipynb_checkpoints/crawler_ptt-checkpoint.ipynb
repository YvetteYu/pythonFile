{
 "cells": [
  {
   "cell_type": "code",
   "execution_count": 29,
   "metadata": {
    "collapsed": false
   },
   "outputs": [
    {
     "name": "stderr",
     "output_type": "stream",
     "text": [
      "/Users/yvette/anaconda/lib/python2.7/site-packages/requests/packages/urllib3/connectionpool.py:791: InsecureRequestWarning: Unverified HTTPS request is being made. Adding certificate verification is strongly advised. See: https://urllib3.readthedocs.org/en/latest/security.html\n",
      "  InsecureRequestWarning)\n",
      "/Users/yvette/anaconda/lib/python2.7/site-packages/requests/packages/urllib3/connectionpool.py:791: InsecureRequestWarning: Unverified HTTPS request is being made. Adding certificate verification is strongly advised. See: https://urllib3.readthedocs.org/en/latest/security.html\n",
      "  InsecureRequestWarning)\n",
      "/Users/yvette/anaconda/lib/python2.7/site-packages/requests/packages/urllib3/connectionpool.py:791: InsecureRequestWarning: Unverified HTTPS request is being made. Adding certificate verification is strongly advised. See: https://urllib3.readthedocs.org/en/latest/security.html\n",
      "  InsecureRequestWarning)\n"
     ]
    }
   ],
   "source": [
    "import requests\n",
    "payload= {\n",
    "'from':'/bbs/Gossiping/M.1462033991.A.E82.html',\n",
    "'yes':'yes'\n",
    "}\n",
    "rs = requests.session()\n",
    "res = rs.post(\"https://www.ptt.cc/ask/over18\", verify = False, data = payload)\n",
    "res2 = rs.get('https://www.ptt.cc/bbs/Gossiping/M.1462033991.A.E82.html', verify = False)"
   ]
  },
  {
   "cell_type": "code",
   "execution_count": 31,
   "metadata": {
    "collapsed": false
   },
   "outputs": [],
   "source": [
    "from bs4 import BeautifulSoup as bs\n",
    "soup = bs(res2.text)"
   ]
  },
  {
   "cell_type": "code",
   "execution_count": 38,
   "metadata": {
    "collapsed": false,
    "scrolled": true
   },
   "outputs": [
    {
     "name": "stdout",
     "output_type": "stream",
     "text": [
      "114.27.20.110\n",
      "\n"
     ]
    }
   ],
   "source": [
    "ptt_ip = soup.select('.f2')[0].text.encode('utf-8').split(\"來自: \")[1]\n",
    "print ptt_ip"
   ]
  },
  {
   "cell_type": "code",
   "execution_count": 98,
   "metadata": {
    "collapsed": false
   },
   "outputs": [],
   "source": [
    "split_head = soup.select('.article-meta-value')[3].text.encode('utf-8')\n",
    "split_tail = soup.select('.f2')[0].text.encode('utf-8')\n",
    "ptt_content = soup.select('#main-content')[0].text.encode('utf-8').split(split_head)[1].split(split_tail)[0].strip()\n"
   ]
  },
  {
   "cell_type": "code",
   "execution_count": null,
   "metadata": {
    "collapsed": true
   },
   "outputs": [],
   "source": [
    "rank=0\n",
    "push = soup.select('.push')\n",
    "ipush = push[2]\n",
    "for i in range(0,len(push)-1):\n",
    "    if i!=999:\n",
    "        ele = push[i].select('span')[0].text\n",
    "        #print i\n",
    "        if ele == u\"噓 \":\n",
    "            rank = rank-1\n",
    "        if ele == u\"推 \":\n",
    "            rank = rank+1"
   ]
  },
  {
   "cell_type": "code",
   "execution_count": 104,
   "metadata": {
    "collapsed": true
   },
   "outputs": [],
   "source": [
    "msg={\n",
    " 'content':ptt_content,\n",
    " 'date':soup.select('.article-meta-value')[3].text,\n",
    " 'status':'rank',\n",
    " 'author':soup.select('.article-meta-value')[0].text,\n",
    " 'title':soup.select('.article-meta-value')[2].text,\n",
    " 'board':soup.select('.article-meta-value')[1].text,\n",
    " 'ip':ptt_ip,\n",
    " 'rid':0\n",
    "}\n"
   ]
  },
  {
   "cell_type": "code",
   "execution_count": 111,
   "metadata": {
    "collapsed": false
   },
   "outputs": [],
   "source": [
    "import json\n",
    "with open('test.json', 'w') as fin:\n",
    "    fin = json.dumps(msg)"
   ]
  },
  {
   "cell_type": "code",
   "execution_count": 122,
   "metadata": {
    "collapsed": false
   },
   "outputs": [
    {
     "data": {
      "text/plain": [
       "459"
      ]
     },
     "execution_count": 122,
     "metadata": {},
     "output_type": "execute_result"
    }
   ],
   "source": [
    "rank"
   ]
  },
  {
   "cell_type": "code",
   "execution_count": null,
   "metadata": {
    "collapsed": true
   },
   "outputs": [],
   "source": []
  }
 ],
 "metadata": {
  "kernelspec": {
   "display_name": "Python 2",
   "language": "python",
   "name": "python2"
  },
  "language_info": {
   "codemirror_mode": {
    "name": "ipython",
    "version": 2
   },
   "file_extension": ".py",
   "mimetype": "text/x-python",
   "name": "python",
   "nbconvert_exporter": "python",
   "pygments_lexer": "ipython2",
   "version": "2.7.11"
  }
 },
 "nbformat": 4,
 "nbformat_minor": 0
}
