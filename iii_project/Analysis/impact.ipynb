{
 "cells": [
  {
   "cell_type": "code",
   "execution_count": 22,
   "metadata": {
    "collapsed": false
   },
   "outputs": [
    {
     "name": "stdout",
     "output_type": "stream",
     "text": [
      "1361\n"
     ]
    }
   ],
   "source": [
    "with open('test2/TotalMatchTime.txt','r') as fin:\n",
    "    data = fin.readline().strip().split(' ')\n",
    "num_com = int(data[1])\n",
    "print num_com\n",
    "del data"
   ]
  },
  {
   "cell_type": "code",
   "execution_count": 23,
   "metadata": {
    "collapsed": true
   },
   "outputs": [],
   "source": [
    "#num_com = 5\n",
    "#num_sal = 8"
   ]
  },
  {
   "cell_type": "code",
   "execution_count": null,
   "metadata": {
    "collapsed": false
   },
   "outputs": [],
   "source": [
    "with open('test2/match_bool.txt','r') as fin:\n",
    "    mbool = fin.readlines()\n",
    "i = 1\n",
    "data = []\n",
    "for line in mbool:\n",
    "    points = 0\n",
    "    bools = line.split(' ')\n",
    "    bools.remove('\\n')\n",
    "    for ele in bools:\n",
    "        points = points + float(ele)\n",
    "    if points/len(bools) >= 0.5:\n",
    "        if i%num_com==0:\n",
    "            data.append(((i//num_com)-1,(i%num_com)-1)) \n",
    "        else:\n",
    "            data.append(((i//num_com),(i%num_com)-1))      # (sal,com)\n",
    "    i = i + 1\n",
    "del mbool"
   ]
  },
  {
   "cell_type": "code",
   "execution_count": 34,
   "metadata": {
    "collapsed": false
   },
   "outputs": [],
   "source": [
    "with open('test2/104_company.txt','r') as fcom:\n",
    "    comlist = fcom.readlines()\n",
    "with open('test2/salary.txt','r') as fsal:\n",
    "    sal = fsal.readlines()\n",
    "with open('test2/match2/match.txt','w')as fmat:    \n",
    "    for line in data:\n",
    "        fmat.write(comlist[line[1]].replace('\\n','') + ' ' + sal[line[0]])"
   ]
  },
  {
   "cell_type": "code",
   "execution_count": null,
   "metadata": {
    "collapsed": true
   },
   "outputs": [],
   "source": []
  }
 ],
 "metadata": {
  "kernelspec": {
   "display_name": "Python 2",
   "language": "python",
   "name": "python2"
  },
  "language_info": {
   "codemirror_mode": {
    "name": "ipython",
    "version": 2
   },
   "file_extension": ".py",
   "mimetype": "text/x-python",
   "name": "python",
   "nbconvert_exporter": "python",
   "pygments_lexer": "ipython2",
   "version": "2.7.11"
  }
 },
 "nbformat": 4,
 "nbformat_minor": 0
}
