{
 "cells": [
  {
   "cell_type": "markdown",
   "metadata": {},
   "source": [
    "## Cleaning the raw data from the 104 website"
   ]
  },
  {
   "cell_type": "code",
   "execution_count": 4,
   "metadata": {
    "collapsed": true
   },
   "outputs": [],
   "source": [
    "def clean_compInfo(url,company):\n",
    "    f = open(url,'r')  \n",
    "    for comps in f.readlines():\n",
    "        tempdata = comps.split(',')[0].split('股份有限公司')[0].split('有限公司')[0]\n",
    "        company.append(tempdata)\n",
    "    company = list(set(company))  # eliminating duplicat\n",
    "    f.close()\n",
    "    return company"
   ]
  },
  {
   "cell_type": "code",
   "execution_count": 5,
   "metadata": {
    "collapsed": false,
    "scrolled": true
   },
   "outputs": [],
   "source": [
    "url='/Users/yvette/GoogleDrive/ZB105_no_5_project/companyFiles/compare_companyName/'\n",
    "complist=[]\n",
    "filepath = url+'104comm0329.txt'\n",
    "complist = clean_compInfo(filepath,complist)\n",
    "#print len(complist)\n",
    "filepath = url+'104elec0329.txt'\n",
    "complist = clean_compInfo(filepath,complist)\n",
    "\n",
    "filepath = url+'104pc0329.txt'\n",
    "complist = clean_compInfo(filepath,complist)\n",
    "\n",
    "filepath = url+'104soft0329.txt'\n",
    "complist = clean_compInfo(filepath,complist)\n",
    "\n",
    "filepath = url+'104tech0329.txt'\n",
    "complist = clean_compInfo(filepath,complist)"
   ]
  },
  {
   "cell_type": "markdown",
   "metadata": {},
   "source": [
    "## format the salary data"
   ]
  },
  {
   "cell_type": "code",
   "execution_count": 10,
   "metadata": {
    "collapsed": false
   },
   "outputs": [],
   "source": [
    "sal_com=[]\n",
    "sal_job=[]\n",
    "sal_sal=[]\n",
    "sal_seniority=[]\n",
    "sal_unknown=[]\n",
    "fid=open(url+'company_list.txt','r')\n",
    "for comps in fid.readlines():\n",
    "    tempdata = comps.split(',')\n",
    "    sal_com.append(tempdata[0].split('股份有限公司')[0].split('有限公司')[0])\n",
    "    sal_job.append(tempdata[1])\n",
    "    sal_sal.append(tempdata[2])\n",
    "    sal_seniority.append(tempdata[3])\n",
    "    sal_unknown.append(tempdata[4])\n",
    "fid.close()"
   ]
  },
  {
   "cell_type": "code",
   "execution_count": 23,
   "metadata": {
    "collapsed": false
   },
   "outputs": [
    {
     "name": "stdout",
     "output_type": "stream",
     "text": [
      "26000\n",
      "26000\n",
      "26000\n",
      "26000\n",
      "26000\n"
     ]
    }
   ],
   "source": [
    "## make sure the length of the spliting sal data is correct\n",
    "## it can be rewrited in if function\n",
    "print len(sal_com)\n",
    "print len(sal_job)\n",
    "print len(sal_sal)\n",
    "print len(sal_seniority)\n",
    "print len(sal_unknown)"
   ]
  },
  {
   "cell_type": "code",
   "execution_count": 13,
   "metadata": {
    "collapsed": true
   },
   "outputs": [],
   "source": [
    "## test the company and salary data\n",
    "fid = open('company.txt','w')\n",
    "for ele in complist:\n",
    "    fid.write(ele+'\\n')\n",
    "fid.close()\n",
    "fid = open('comparedcom.txt','w')\n",
    "for number in range(0,len(sal_com)):\n",
    "    fid.write(sal_com[number]+'*'+sal_job[number]+'*'+sal_sal[number]+\\\n",
    "              '*'+sal_seniority[number]+'*'+sal_unknown[number]+'\\n')\n",
    "fid.close()"
   ]
  },
  {
   "cell_type": "code",
   "execution_count": 22,
   "metadata": {
    "collapsed": false
   },
   "outputs": [
    {
     "data": {
      "text/plain": [
       "'\\x97\\xa5\\xe5\\x95\\x86\\xe5'"
      ]
     },
     "execution_count": 22,
     "metadata": {},
     "output_type": "execute_result"
    }
   ],
   "source": [
    "sal_com[0][1:7]"
   ]
  },
  {
   "cell_type": "code",
   "execution_count": 14,
   "metadata": {
    "collapsed": true
   },
   "outputs": [],
   "source": [
    "import re"
   ]
  },
  {
   "cell_type": "code",
   "execution_count": null,
   "metadata": {
    "collapsed": true
   },
   "outputs": [],
   "source": [
    "## Match the company data and salary data\n",
    "# step1: compile the source\n",
    "# step2: cut of the front two or three words from compared company data \n",
    "#        and delivery the value to temp_com2 and tempcom3"
   ]
  },
  {
   "cell_type": "code",
   "execution_count": 25,
   "metadata": {
    "collapsed": false
   },
   "outputs": [],
   "source": [
    "## make one fake data in complist[0]\n",
    "complist.insert(0,'鴻海科技')"
   ]
  },
  {
   "cell_type": "code",
   "execution_count": null,
   "metadata": {
    "collapsed": true
   },
   "outputs": [],
   "source": [
    "pattern = re.compile(complist[0])\n",
    "for \n",
    "    temp_com2 = sal_com[0][1:7]     # each chinese word occupies three bytes\n",
    "    temp_com3 = sal_com[0][1:10]\n",
    "    m2 = pattern.sreach(temp_com2)\n",
    "    m3 = pattern.sreach(temp_com3)\n",
    "    if m2:\n",
    "        print m2.group()\n",
    "    if m3:\n",
    "        print m3.group()"
   ]
  },
  {
   "cell_type": "code",
   "execution_count": 6,
   "metadata": {
    "collapsed": false
   },
   "outputs": [],
   "source": [
    "import jieba"
   ]
  },
  {
   "cell_type": "code",
   "execution_count": null,
   "metadata": {
    "collapsed": false
   },
   "outputs": [],
   "source": [
    "for words in comparedData:\n",
    "    word = jieba.cut(words, cut_all=False)\n",
    "    for ele in word:\n",
    "        print ele"
   ]
  }
 ],
 "metadata": {
  "kernelspec": {
   "display_name": "Python 2",
   "language": "python",
   "name": "python2"
  },
  "language_info": {
   "codemirror_mode": {
    "name": "ipython",
    "version": 2
   },
   "file_extension": ".py",
   "mimetype": "text/x-python",
   "name": "python",
   "nbconvert_exporter": "python",
   "pygments_lexer": "ipython2",
   "version": "2.7.11"
  }
 },
 "nbformat": 4,
 "nbformat_minor": 0
}
