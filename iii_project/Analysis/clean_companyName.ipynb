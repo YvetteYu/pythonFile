{
 "cells": [
  {
   "cell_type": "markdown",
   "metadata": {},
   "source": [
    "## Cleaning the raw data from the 104 website"
   ]
  },
  {
   "cell_type": "code",
   "execution_count": 4,
   "metadata": {
    "collapsed": false
   },
   "outputs": [],
   "source": [
    "def clean_compInfo(url,company):\n",
    "    n=1000\n",
    "    f = open(url,'r')  \n",
    "    for comps in f.readlines():\n",
    "        tempdata = comps.split(',')[0].split('股份有限公司')[0].split('有限公司')[0]\n",
    "        tempdata = tempdata.replace('*','',n).replace('(','',n).replace('（','',n).replace(')','',n)\\\n",
    "        .replace('）','',n).replace('?','',n).replace('-','',n).replace('、','',n).replace('/','',n)\\\n",
    "        .replace('、','',n).replace('<','',n).replace('>','',n).replace('＜','',n).replace('＞','',n)\\\n",
    "        .replace('？','',n).replace('－','',n).replace('＿','',n).replace('_','',n).replace('.','',n)\\\n",
    "        .replace('〝','',n).replace('〞','',n).replace('〈','',n).replace('〉','',n)\n",
    "        tempdata = tempdata.decode('utf-8')\n",
    "        company.append(tempdata)\n",
    "    company = list(set(company))  # eliminating duplicat\n",
    "    f.close()\n",
    "    return company"
   ]
  },
  {
   "cell_type": "code",
   "execution_count": 5,
   "metadata": {
    "collapsed": false,
    "scrolled": true
   },
   "outputs": [],
   "source": [
    "url=''\n",
    "complist=[]\n",
    "filepath = url+'104job/104comm0329.txt'\n",
    "complist = clean_compInfo(filepath,complist)\n",
    "#print len(complist)\n",
    "filepath = url+'104job/104elec0329.txt'\n",
    "complist = clean_compInfo(filepath,complist)\n",
    "\n",
    "filepath = url+'104job/104pc0329.txt'\n",
    "complist = clean_compInfo(filepath,complist)\n",
    "\n",
    "filepath = url+'104job/104soft0329.txt'\n",
    "complist = clean_compInfo(filepath,complist)\n",
    "\n",
    "filepath = url+'104job/104tech0329.txt'\n",
    "complist = clean_compInfo(filepath,complist)"
   ]
  },
  {
   "cell_type": "markdown",
   "metadata": {},
   "source": [
    "## format the salary data"
   ]
  },
  {
   "cell_type": "code",
   "execution_count": 6,
   "metadata": {
    "collapsed": false
   },
   "outputs": [],
   "source": [
    "n=1000\n",
    "sal_com=[]\n",
    "sal_job=[]\n",
    "sal_sal=[]\n",
    "sal_seniority=[]\n",
    "sal_unknown=[]\n",
    "fid=open(url+'sal/company_list.txt','r')\n",
    "for comps in fid.readlines():\n",
    "    tempdata = comps.split(',')\n",
    "    temp_com = tempdata[0].split('股份有限公司')[0].split('有限公司')[0].split('(')[0]\n",
    "    temp_com = temp_com.replace('*','',n).replace('(','',n).replace('（','',n).replace(')','',n)\\\n",
    "    .replace('）','',n).replace('?','',n).replace('-','',n).replace('、','',n).replace('/','',n)\\\n",
    "        .replace('、','',n).replace('<','',n).replace('>','',n).replace('＜','',n).replace('＞','',n)\\\n",
    "        .replace('？','',n).replace('－','',n).replace('＿','',n).replace('_','',n).replace('.','',n)\\\n",
    "        .replace('〝','',n).replace('〞','',n).replace('〈','',n).replace('〉','',n)\n",
    "    sal_com.append(temp_com.decode('utf-8'))\n",
    "    sal_job.append(tempdata[1].decode('utf-8'))\n",
    "    sal_sal.append(tempdata[2].decode('utf-8'))\n",
    "    sal_seniority.append(tempdata[3].decode('utf-8'))\n",
    "    sal_unknown.append(tempdata[4].decode('utf-8'))\n",
    "fid.close()"
   ]
  },
  {
   "cell_type": "code",
   "execution_count": 7,
   "metadata": {
    "collapsed": false
   },
   "outputs": [
    {
     "name": "stdout",
     "output_type": "stream",
     "text": [
      "26000\n",
      "26000\n",
      "26000\n",
      "26000\n",
      "26000\n"
     ]
    }
   ],
   "source": [
    "## make sure the length of the spliting sal data is correct\n",
    "## it can be rewrited in if function\n",
    "print len(sal_com)\n",
    "print len(sal_job)\n",
    "print len(sal_sal)\n",
    "print len(sal_seniority)\n",
    "print len(sal_unknown)"
   ]
  },
  {
   "cell_type": "code",
   "execution_count": 8,
   "metadata": {
    "collapsed": false
   },
   "outputs": [],
   "source": [
    "## test the company and salary data\n",
    "import codecs\n",
    "fid =codecs.open('104_company.txt','w',encoding='utf-8')\n",
    "for ele in complist:\n",
    "    fid.write(ele+'\\n')\n",
    "fid.close()\n",
    "fid = codecs.open('sal_company.txt','w',encoding='utf-8')\n",
    "for number in range(0,len(sal_com)):\n",
    "    fid.write(sal_com[number]+'\\n')\n",
    "fid.close()"
   ]
  },
  {
   "cell_type": "code",
   "execution_count": 9,
   "metadata": {
    "collapsed": true
   },
   "outputs": [],
   "source": [
    "# 目前 104公司資料有 1361 筆\n",
    "# 目前 新資資料有 26000 筆"
   ]
  }
 ],
 "metadata": {
  "kernelspec": {
   "display_name": "Python 2",
   "language": "python",
   "name": "python2"
  },
  "language_info": {
   "codemirror_mode": {
    "name": "ipython",
    "version": 2
   },
   "file_extension": ".py",
   "mimetype": "text/x-python",
   "name": "python",
   "nbconvert_exporter": "python",
   "pygments_lexer": "ipython2",
   "version": "2.7.11"
  }
 },
 "nbformat": 4,
 "nbformat_minor": 0
}
