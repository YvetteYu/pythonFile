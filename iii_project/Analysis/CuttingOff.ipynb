{
 "cells": [
  {
   "cell_type": "markdown",
   "metadata": {},
   "source": [
    "## Cutting of the compared companies"
   ]
  },
  {
   "cell_type": "code",
   "execution_count": 1,
   "metadata": {
    "collapsed": true
   },
   "outputs": [],
   "source": [
    "import codecs\n",
    "fid = codecs.open('sal_company.txt','r',encoding='utf-8')\n",
    "sal_com=fid.readlines()\n",
    "fid.close()"
   ]
  },
  {
   "cell_type": "code",
   "execution_count": 2,
   "metadata": {
    "collapsed": false
   },
   "outputs": [],
   "source": [
    "import jieba"
   ]
  },
  {
   "cell_type": "code",
   "execution_count": 3,
   "metadata": {
    "collapsed": false
   },
   "outputs": [
    {
     "name": "stderr",
     "output_type": "stream",
     "text": [
      "Building prefix dict from the default dictionary ...\n",
      "DEBUG:jieba:Building prefix dict from the default dictionary ...\n",
      "Loading model from cache c:\\users\\bigdat~1\\appdata\\local\\temp\\jieba.cache\n",
      "DEBUG:jieba:Loading model from cache c:\\users\\bigdat~1\\appdata\\local\\temp\\jieba.cache\n",
      "Loading model cost 0.273 seconds.\n",
      "DEBUG:jieba:Loading model cost 0.273 seconds.\n",
      "Prefix dict has been built succesfully.\n",
      "DEBUG:jieba:Prefix dict has been built succesfully.\n"
     ]
    }
   ],
   "source": [
    "cut_com=[]\n",
    "for i in range(0,10):#len(sal_com)):\n",
    "    k=0                           # initialized k\n",
    "    temp_com = []\n",
    "    words = jieba.cut(sal_com[i], cut_all=False)\n",
    "    for ele in words:\n",
    "        if k==0:                 # 讓每個斷詞中間有空格隔開, 但第一個斷詞前面不會有空格\n",
    "            temp_com.append(ele)\n",
    "        else:\n",
    "            temp_com.append(' '+ele)\n",
    "        k=k+1\n",
    "    cut_com.append(temp_com)"
   ]
  },
  {
   "cell_type": "code",
   "execution_count": 4,
   "metadata": {
    "collapsed": false
   },
   "outputs": [],
   "source": [
    "fid = codecs.open('test2/cutting_company.txt','w',encoding='utf-8')\n",
    "for lines in cut_com:\n",
    "    for ele in lines:\n",
    "        fid.write(ele)\n",
    "fid.close()    "
   ]
  }
 ],
 "metadata": {
  "kernelspec": {
   "display_name": "Python 2",
   "language": "python",
   "name": "python2"
  },
  "language_info": {
   "codemirror_mode": {
    "name": "ipython",
    "version": 2
   },
   "file_extension": ".py",
   "mimetype": "text/x-python",
   "name": "python",
   "nbconvert_exporter": "python",
   "pygments_lexer": "ipython2",
   "version": "2.7.11"
  }
 },
 "nbformat": 4,
 "nbformat_minor": 0
}
