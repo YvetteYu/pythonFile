{
 "cells": [
  {
   "cell_type": "markdown",
   "metadata": {},
   "source": [
    "# Match data by jieba"
   ]
  },
  {
   "cell_type": "code",
   "execution_count": null,
   "metadata": {
    "collapsed": true
   },
   "outputs": [],
   "source": [
    "import codecs\n",
    "fid = codecs.open('104_company.txt','r',encoding='utf-8')\n",
    "comlist = fid.readlines()\n",
    "fid.close()\n",
    "fid = codecs.open('sal_company.txt','r',encoding='utf-8')\n",
    "sal_com = fid.readlines()\n",
    "fid.close()"
   ]
  },
  {
   "cell_type": "code",
   "execution_count": null,
   "metadata": {
    "collapsed": true
   },
   "outputs": [],
   "source": [
    "# step1: compile the source\n",
    "# step2: cut of the front two or three words from compared company data\n",
    "# and delivery the value to temp_com2 and tempcom3"
   ]
  },
  {
   "cell_type": "code",
   "execution_count": null,
   "metadata": {
    "collapsed": true
   },
   "outputs": [],
   "source": [
    "import re"
   ]
  },
  {
   "cell_type": "code",
   "execution_count": null,
   "metadata": {
    "collapsed": false
   },
   "outputs": [],
   "source": [
    "## make one fake data in complist[0]\n",
    "#comlist.insert(0,u'鴻海科技')"
   ]
  },
  {
   "cell_type": "code",
   "execution_count": null,
   "metadata": {
    "collapsed": true
   },
   "outputs": [],
   "source": [
    "import time\n",
    "tic = time.clock()"
   ]
  },
  {
   "cell_type": "code",
   "execution_count": null,
   "metadata": {
    "collapsed": false
   },
   "outputs": [],
   "source": [
    "import jieba"
   ]
  },
  {
   "cell_type": "code",
   "execution_count": null,
   "metadata": {
    "collapsed": false
   },
   "outputs": [],
   "source": [
    "match_bool=[]\n",
    "cut_com=[]\n",
    "#for j in range(0,2):#len(comlist)):\n",
    "#    for i in range(0,len(sal_com)):\n",
    "#        temp_com = []\n",
    "#        temp_bool=[]\n",
    "#        words = jieba.cut(sal_com[i], cut_all=False)\n",
    "#        for ele in words:\n",
    "#            temp_com.append(ele)\n",
    "#            try:\n",
    "#                m = re.search(ele,comlist[j])\n",
    "#                if m:\n",
    "#                    temp_bool.append(1)\n",
    "#                else:3\n",
    "#                    temp_bool.append(0)\n",
    "#            except:\n",
    "#                temp_bool.append(0)\n",
    "#                continue\n",
    "#        cut_com.append(temp_com)\n",
    "#        match_bool.append(temp_bool)\n",
    "\n",
    "for i in range(0,10):#len(sal_com)):\n",
    "    for j in range(0,2):#len(comlist)):\n",
    "        words = jieba.cut(sal_com[i], cut_all=False) # words is a generator which generate an output one at a time,  \n",
    "        temp_com = []                                # the output won't be memorized in the memory   \n",
    "        temp_bool=[]        \n",
    "        for ele in words:\n",
    "            if j==0:\n",
    "                temp_com.append(ele)\n",
    "            try:\n",
    "                m = re.search(ele,comlist[j])\n",
    "                if m:\n",
    "                    temp_bool.append(1)\n",
    "                else:\n",
    "                    temp_bool.append(0)\n",
    "            except:\n",
    "                #temp_bool.append(0)\n",
    "                continue\n",
    "        cut_com.append(temp_com)\n",
    "        match_bool.append(temp_bool)\n",
    "        \n",
    "toc = time.clock()\n",
    "totalTime = toc-tic"
   ]
  },
  {
   "cell_type": "code",
   "execution_count": null,
   "metadata": {
    "collapsed": false,
    "scrolled": false
   },
   "outputs": [],
   "source": [
    "#tbool=[]\n",
    "#test = ['+','h','he']\n",
    "#for ele in test:\n",
    "#    try:\n",
    "#        mt = re.search(ele,'hello')\n",
    "#        if m:\n",
    "#            tbool.append(1)\n",
    "#        else:\n",
    "#            tbool.append(0)\n",
    "#    except:\n",
    "#            tbool.append(0)\n",
    "#            continue"
   ]
  },
  {
   "cell_type": "code",
   "execution_count": null,
   "metadata": {
    "collapsed": false,
    "scrolled": true
   },
   "outputs": [],
   "source": [
    "fcom =  codecs.open('test2/cut_company.txt','w',encoding='utf-8')\n",
    "fbool = codecs.open('test2/match_bool.txt','w',encoding='utf-8')\n",
    "for k in range(0,len(cut_com)):\n",
    "    temp_com = cut_com[k]\n",
    "    temp_bool = match_bool[k]\n",
    "    for ele in temp_com:   \n",
    "        fcom.write(ele + ' ')\n",
    "    for elebool in temp_bool: \n",
    "        fbool.write(str(elebool) + ' ')\n",
    "    fbool.write('\\n')\n",
    "fcom.close()\n",
    "fbool.close()\n",
    "ftime = open('test2/TotalMatchTime.txt','w')\n",
    "ftime.write('match '+str(j+1)+' companies and ' + str(i+1) +\\\n",
    "' salary data, costs ' + str(totalTime) + 's')\n",
    "ftime.close()"
   ]
  },
  {
   "cell_type": "code",
   "execution_count": null,
   "metadata": {
    "collapsed": true
   },
   "outputs": [],
   "source": []
  }
 ],
 "metadata": {
  "kernelspec": {
   "display_name": "Python 2",
   "language": "python",
   "name": "python2"
  },
  "language_info": {
   "codemirror_mode": {
    "name": "ipython",
    "version": 2
   },
   "file_extension": ".py",
   "mimetype": "text/x-python",
   "name": "python",
   "nbconvert_exporter": "python",
   "pygments_lexer": "ipython2",
   "version": "2.7.11"
  }
 },
 "nbformat": 4,
 "nbformat_minor": 0
}
