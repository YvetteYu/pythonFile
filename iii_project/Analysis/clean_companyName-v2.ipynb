{
 "cells": [
  {
   "cell_type": "markdown",
   "metadata": {},
   "source": [
    "## Cleaning the raw data from the 104 website"
   ]
  },
  {
   "cell_type": "code",
   "execution_count": 53,
   "metadata": {
    "collapsed": false
   },
   "outputs": [],
   "source": [
    "def clean_compInfo(url):\n",
    "    n=1000\n",
    "    company=[]\n",
    "    with open(url,'r') as f:\n",
    "        com_data = f.readlines()\n",
    "    for comps in com_data:\n",
    "        tempdata = comps.split(',')[0].split('股份有限公司')[0].split('有限公司')[0]\n",
    "        tempdata = tempdata.replace('*','',n).replace('(','',n).replace('（','',n).replace(')','',n)\\\n",
    "        .replace('）','',n).replace('?','',n).replace('-','',n).replace('、','',n).replace('/','',n)\\\n",
    "        .replace('、','',n).replace('<','',n).replace('>','',n).replace('＜','',n).replace('＞','',n)\\\n",
    "        .replace('？','',n).replace('－','',n).replace('＿','',n).replace('_','',n).replace('.','',n)\\\n",
    "        .replace('〝','',n).replace('〞','',n).replace('〈','',n).replace('〉','',n)\n",
    "        tempdata = tempdata.decode('utf-8')\n",
    "        company.append(tempdata)\n",
    "    company = list(set(company))  # eliminating duplicat\n",
    "    return company"
   ]
  },
  {
   "cell_type": "code",
   "execution_count": null,
   "metadata": {
    "collapsed": true
   },
   "outputs": [],
   "source": [
    "del append_company(comlist_path):\n",
    "    "
   ]
  },
  {
   "cell_type": "code",
   "execution_count": 54,
   "metadata": {
    "collapsed": true
   },
   "outputs": [],
   "source": [
    "import codecs"
   ]
  },
  {
   "cell_type": "code",
   "execution_count": 68,
   "metadata": {
    "collapsed": false
   },
   "outputs": [],
   "source": [
    "url='C:/Users/BIG DATA/GoogleDrive/ZB105_no_5_project/companyFiles/compare_companyName/104job/'\n",
    "files = ['104comm0407.txt','104elec0407.txt','104pc0407.txt']\n",
    "company=[]\n",
    "for i in range(0,0):#len(files)):\n",
    "    filepath = url+files[i]\n",
    "    temp_com = clean_compInfo(filepath)\n",
    "    company.append(temp_com)\n",
    "    company = list(set(company[i]))               # [].append 會造成 [[]], 以致於不能使用set(), 見下例   \n",
    "#company.append(clean_compInfo(filepath))\n",
    "\n"
   ]
  },
  {
   "cell_type": "code",
   "execution_count": 74,
   "metadata": {
    "collapsed": false
   },
   "outputs": [
    {
     "name": "stdout",
     "output_type": "stream",
     "text": [
      "1\n",
      "239\n",
      "239\n"
     ]
    }
   ],
   "source": [
    "print len(company)\n",
    "print len(company[0])\n",
    "print len(list(set(company[0])))"
   ]
  },
  {
   "cell_type": "code",
   "execution_count": null,
   "metadata": {
    "collapsed": true
   },
   "outputs": [],
   "source": [
    "#with codecs.open('104_company.txt','r',encoding='utf-8') as fin:\n",
    "#    comlist = fin.readlines()\n",
    "for line in company:\n",
    "    comlist.append(line)\n",
    "comlist = list(set(comlist))     \n",
    "with codecs.open('104_company.txt','w',encoding='utf-8') as fout:\n",
    "    for line in comlist:\n",
    "        fout.write(line)"
   ]
  },
  {
   "cell_type": "code",
   "execution_count": null,
   "metadata": {
    "collapsed": true
   },
   "outputs": [],
   "source": [
    "#a= [1,2,3]\n",
    "#temp=[4,5,6]\n",
    "#temp.append([ele for ele in a])"
   ]
  },
  {
   "cell_type": "markdown",
   "metadata": {},
   "source": [
    "## format the salary data"
   ]
  },
  {
   "cell_type": "code",
   "execution_count": 6,
   "metadata": {
    "collapsed": false
   },
   "outputs": [],
   "source": [
    "n=1000\n",
    "sal_com=[]\n",
    "sal_job=[]\n",
    "sal_sal=[]\n",
    "sal_seniority=[]\n",
    "sal_unknown=[]\n",
    "fid=open(url+'sal/company_list.txt','r')\n",
    "for comps in fid.readlines():\n",
    "    tempdata = comps.split(',')\n",
    "    temp_com = tempdata[0].split('股份有限公司')[0].split('有限公司')[0].split('(')[0]\n",
    "    temp_com = temp_com.replace('*','',n).replace('(','',n).replace('（','',n).replace(')','',n)\\\n",
    "    .replace('）','',n).replace('?','',n).replace('-','',n).replace('、','',n).replace('/','',n)\\\n",
    "        .replace('、','',n).replace('<','',n).replace('>','',n).replace('＜','',n).replace('＞','',n)\\\n",
    "        .replace('？','',n).replace('－','',n).replace('＿','',n).replace('_','',n).replace('.','',n)\\\n",
    "        .replace('〝','',n).replace('〞','',n).replace('〈','',n).replace('〉','',n)\n",
    "    sal_com.append(temp_com.decode('utf-8'))\n",
    "    sal_job.append(tempdata[1].decode('utf-8'))\n",
    "    sal_sal.append(tempdata[2].decode('utf-8'))\n",
    "    sal_seniority.append(tempdata[3].decode('utf-8'))\n",
    "    sal_unknown.append(tempdata[4].decode('utf-8'))\n",
    "fid.close()"
   ]
  },
  {
   "cell_type": "code",
   "execution_count": 8,
   "metadata": {
    "collapsed": false
   },
   "outputs": [],
   "source": [
    "## save the salary data\n",
    "fid = codecs.open('sal_company.txt','w',encoding='utf-8')\n",
    "for number in range(0,len(sal_com)):\n",
    "    fid.write(sal_com[number]+'\\n')\n",
    "fid.close()"
   ]
  },
  {
   "cell_type": "code",
   "execution_count": 9,
   "metadata": {
    "collapsed": true
   },
   "outputs": [],
   "source": [
    "# yoursalary + 104 \n",
    "# 目前 104公司資料有 1361 筆\n",
    "# 目前 新資資料有 26000 筆"
   ]
  },
  {
   "cell_type": "markdown",
   "metadata": {},
   "source": [
    "## read .csv"
   ]
  },
  {
   "cell_type": "code",
   "execution_count": 7,
   "metadata": {
    "collapsed": true
   },
   "outputs": [],
   "source": [
    "import csv"
   ]
  },
  {
   "cell_type": "code",
   "execution_count": 8,
   "metadata": {
    "collapsed": false
   },
   "outputs": [],
   "source": [
    "url = 'C:/Users/kun/GoogleDrive/ZB105_no_5_project/companyFiles/compare_companyName/'\n",
    "with open(url+'Ibeejobs.csv','r') as fin:\n",
    "    cin = csv.reader(fin)\n",
    "    data = [row for row in cin]"
   ]
  },
  {
   "cell_type": "code",
   "execution_count": 14,
   "metadata": {
    "collapsed": false
   },
   "outputs": [],
   "source": [
    "n=1000\n",
    "sal_com=[]\n",
    "for row in data:\n",
    "    tempdata = row[0]\n",
    "    temp_com = tempdata.split('股份有限公司')[0].split('有限公司')[0].split('(')[0]\n",
    "    temp_com = temp_com.replace('*','',n).replace('(','',n).replace('（','',n).replace(')','',n)\\\n",
    "    .replace('）','',n).replace('?','',n).replace('-','',n).replace('、','',n).replace('/','',n)\\\n",
    "        .replace('、','',n).replace('<','',n).replace('>','',n).replace('＜','',n).replace('＞','',n)\\\n",
    "        .replace('？','',n).replace('－','',n).replace('＿','',n).replace('_','',n).replace('.','',n)\\\n",
    "        .replace('〝','',n).replace('〞','',n).replace('〈','',n).replace('〉','',n)\n",
    "    sal_com.append(temp_com.decode('utf-8')) "
   ]
  },
  {
   "cell_type": "code",
   "execution_count": 15,
   "metadata": {
    "collapsed": true
   },
   "outputs": [],
   "source": [
    "import codecs\n",
    "fid = codecs.open('sal_company.txt','a',encoding='utf-8')\n",
    "for number in range(0,len(sal_com)):\n",
    "    fid.write(sal_com[number]+'\\n')\n",
    "fid.close()"
   ]
  },
  {
   "cell_type": "code",
   "execution_count": null,
   "metadata": {
    "collapsed": true
   },
   "outputs": [],
   "source": [
    "#  加上愛比新資網\n",
    "# 目前 104公司資料有 1361 筆\n",
    "# 目前 新資資料有 43834 筆"
   ]
  }
 ],
 "metadata": {
  "kernelspec": {
   "display_name": "Python 2",
   "language": "python",
   "name": "python2"
  },
  "language_info": {
   "codemirror_mode": {
    "name": "ipython",
    "version": 2
   },
   "file_extension": ".py",
   "mimetype": "text/x-python",
   "name": "python",
   "nbconvert_exporter": "python",
   "pygments_lexer": "ipython2",
   "version": "2.7.11"
  }
 },
 "nbformat": 4,
 "nbformat_minor": 0
}
