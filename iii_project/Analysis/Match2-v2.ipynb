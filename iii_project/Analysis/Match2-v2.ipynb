{
 "cells": [
  {
   "cell_type": "markdown",
   "metadata": {},
   "source": [
    "# Match company name by input cutting_company.txt"
   ]
  },
  {
   "cell_type": "code",
   "execution_count": 21,
   "metadata": {
    "collapsed": true
   },
   "outputs": [],
   "source": [
    "# step1: compile the source\n",
    "# step2: cut of the front two or three words from compared company data\n",
    "# and delivery the value to temp_com2 and tempcom3"
   ]
  },
  {
   "cell_type": "code",
   "execution_count": 22,
   "metadata": {
    "collapsed": false
   },
   "outputs": [],
   "source": [
    "import codecs\n",
    "fid = codecs.open('test2/104_company.txt','r',encoding='utf-8')\n",
    "comlist = fid.readlines()\n",
    "fid.close()\n",
    "fid = codecs.open('test2/cutting_company.txt','r',encoding='utf-8')\n",
    "cut_sal = fid.readlines() # 不會輸出換行符號\n",
    "fid.close()"
   ]
  },
  {
   "cell_type": "code",
   "execution_count": 23,
   "metadata": {
    "collapsed": true
   },
   "outputs": [],
   "source": [
    "#fin = codecs.open('cutting_company.txt','r',encoding='utf-8')\n",
    "#temp = fin.readlines() # 不會輸出換行符號\n",
    "#a = temp[0].strip().split(' ')\n",
    "#print a"
   ]
  },
  {
   "cell_type": "code",
   "execution_count": 24,
   "metadata": {
    "collapsed": true
   },
   "outputs": [],
   "source": [
    "import re\n",
    "import time\n",
    "tic = time.clock()"
   ]
  },
  {
   "cell_type": "code",
   "execution_count": 25,
   "metadata": {
    "collapsed": false
   },
   "outputs": [],
   "source": [
    "## make one fake data in complist[0]\n",
    "#comlist.insert(0,u'鴻海科技')"
   ]
  },
  {
   "cell_type": "code",
   "execution_count": 26,
   "metadata": {
    "collapsed": false
   },
   "outputs": [],
   "source": [
    "match_bool=[]\n",
    "for i in range(0,len(cut_sal)):\n",
    "    for j in range(0,len(comlist)):\n",
    "        words = cut_sal[i].strip().split(' ')  \n",
    "        temp_bool=[]        \n",
    "        for ele in words:\n",
    "            try:\n",
    "                m = re.search(ele,comlist[j])\n",
    "                if m:\n",
    "                    temp_bool.extend('1')\n",
    "                else:\n",
    "                    temp_bool.extend('0')\n",
    "            except:\n",
    "                temp_bool.extend('0')\n",
    "                continue\n",
    "        match_bool.append(temp_bool)\n",
    "        \n",
    "toc = time.clock()\n",
    "totalTime = toc-tic"
   ]
  },
  {
   "cell_type": "code",
   "execution_count": 33,
   "metadata": {
    "collapsed": false
   },
   "outputs": [
    {
     "data": {
      "text/plain": [
       "'0'"
      ]
     },
     "execution_count": 33,
     "metadata": {},
     "output_type": "execute_result"
    }
   ],
   "source": [
    "match_bool[1][0]"
   ]
  },
  {
   "cell_type": "code",
   "execution_count": 27,
   "metadata": {
    "collapsed": false,
    "scrolled": true
   },
   "outputs": [],
   "source": [
    "fbool = codecs.open('test2/match_bool.txt','w',encoding='utf-8')\n",
    "for k in range(0,len(match_bool)):\n",
    "    temp_bool = match_bool[k]\n",
    "    for elebool in temp_bool: \n",
    "        fbool.write(elebool + ' ')\n",
    "    fbool.write('\\n')\n",
    "fbool.close()\n",
    "ftime = open('test2/TotalMatchTime.txt','w')\n",
    "ftime.write('match '+str(j+1)+' companies and ' + str(i+1) +\\\n",
    "' salary data, costs ' + str(totalTime) + 's')\n",
    "ftime.close()"
   ]
  },
  {
   "cell_type": "code",
   "execution_count": null,
   "metadata": {
    "collapsed": true
   },
   "outputs": [],
   "source": []
  }
 ],
 "metadata": {
  "kernelspec": {
   "display_name": "Python 2",
   "language": "python",
   "name": "python2"
  },
  "language_info": {
   "codemirror_mode": {
    "name": "ipython",
    "version": 2
   },
   "file_extension": ".py",
   "mimetype": "text/x-python",
   "name": "python",
   "nbconvert_exporter": "python",
   "pygments_lexer": "ipython2",
   "version": "2.7.11"
  }
 },
 "nbformat": 4,
 "nbformat_minor": 0
}
