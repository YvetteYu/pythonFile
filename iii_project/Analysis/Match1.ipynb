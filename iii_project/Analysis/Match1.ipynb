{
 "cells": [
  {
   "cell_type": "markdown",
   "metadata": {},
   "source": [
    "# Match the company data and salary data"
   ]
  },
  {
   "cell_type": "code",
   "execution_count": 1,
   "metadata": {
    "collapsed": false
   },
   "outputs": [],
   "source": [
    "import codecs\n",
    "fid = codecs.open('104_company.txt','r',encoding='utf-8')\n",
    "comlist = fid.readlines()\n",
    "fid.close()\n",
    "fid = codecs.open('sal_company.txt','r',encoding='utf-8')\n",
    "sal_com = fid.readlines()\n",
    "fid.close()"
   ]
  },
  {
   "cell_type": "code",
   "execution_count": 2,
   "metadata": {
    "collapsed": true
   },
   "outputs": [],
   "source": [
    "# step1: compile the source\n",
    "# step2: cut of the front two or three words from compared company data\n",
    "# and delivery the value to temp_com2 and tempcom3"
   ]
  },
  {
   "cell_type": "code",
   "execution_count": 3,
   "metadata": {
    "collapsed": true
   },
   "outputs": [],
   "source": [
    "import re"
   ]
  },
  {
   "cell_type": "code",
   "execution_count": 4,
   "metadata": {
    "collapsed": false
   },
   "outputs": [],
   "source": [
    "## make one fake data in complist[0]\n",
    "#complist.insert(0,u'鴻海科技')"
   ]
  },
  {
   "cell_type": "code",
   "execution_count": 5,
   "metadata": {
    "collapsed": false
   },
   "outputs": [],
   "source": [
    "import time\n",
    "tic = time.clock()"
   ]
  },
  {
   "cell_type": "code",
   "execution_count": 6,
   "metadata": {
    "collapsed": false,
    "scrolled": true
   },
   "outputs": [],
   "source": [
    "fid = codecs.open('test/match_2words.txt','w',encoding='utf-8')\n",
    "fp = codecs.open('test/match_3words.txt','w',encoding='utf-8')\n",
    "for j in range(0,10):#len(complist)):\n",
    "    for i in range(0,len(sal_com)):\n",
    "        if len(sal_com[i])>=2:\n",
    "            temp_com2 = sal_com[i][0:2]\n",
    "        if len(sal_com[i])>=3:\n",
    "            temp_com3 = sal_com[i][0:3]\n",
    "        m2 = re.search(temp_com2,comlist[j])\n",
    "        m3 = re.search(temp_com3,comlist[j])\n",
    "        if m2:\n",
    "            fid.write(str(j)+','+str(i)+','+m2.group()+'\\n')  # m2.group return a string obj\n",
    "        if m3:\n",
    "            fp.write(str(j)+','+str(i)+','+m3.group()+'\\n')\n",
    "fid.close()\n",
    "fp.close()\n",
    "toc = time.clock()\n",
    "totalTime = toc-tic\n",
    "ftime = open('test/matchTime.txt','w')\n",
    "ftime.write('text matching costs ' + str(totalTime) + 's')\n",
    "ftime.close()"
   ]
  },
  {
   "cell_type": "raw",
   "metadata": {},
   "source": [
    "fin = codecs.open('test1.txt','w',encoding='utf-8')\n",
    "fout = codecs.open('test2.txt','w',encoding='utf-8')\n",
    "for i in range(0,10):\n",
    "    if len(sal_com[i])>=2:\n",
    "        temp_com2 = sal_com[i][0:2]\n",
    "        fin.write(temp_com2+'\\n')\n",
    "    if len(sal_com[i])>=3:\n",
    "        temp_com3 = sal_com[i][0:3]\n",
    "        fout.write(temp_com3+'\\n')\n",
    "fin.close()\n",
    "fout.close()"
   ]
  },
  {
   "cell_type": "code",
   "execution_count": null,
   "metadata": {
    "collapsed": true
   },
   "outputs": [],
   "source": []
  }
 ],
 "metadata": {
  "kernelspec": {
   "display_name": "Python 2",
   "language": "python",
   "name": "python2"
  },
  "language_info": {
   "codemirror_mode": {
    "name": "ipython",
    "version": 2
   },
   "file_extension": ".py",
   "mimetype": "text/x-python",
   "name": "python",
   "nbconvert_exporter": "python",
   "pygments_lexer": "ipython2",
   "version": "2.7.11"
  }
 },
 "nbformat": 4,
 "nbformat_minor": 0
}
