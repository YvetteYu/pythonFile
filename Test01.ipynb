{
 "cells": [
  {
   "cell_type": "markdown",
   "metadata": {
    "collapsed": true
   },
   "source": [
    "## Data structure transfered"
   ]
  },
  {
   "cell_type": "code",
   "execution_count": 1,
   "metadata": {
    "collapsed": false
   },
   "outputs": [
    {
     "data": {
      "text/plain": [
       "12"
      ]
     },
     "execution_count": 1,
     "metadata": {},
     "output_type": "execute_result"
    }
   ],
   "source": [
    "int(float('12.8'))"
   ]
  },
  {
   "cell_type": "markdown",
   "metadata": {},
   "source": [
    "## cutting off practicing"
   ]
  },
  {
   "cell_type": "code",
   "execution_count": 8,
   "metadata": {
    "collapsed": false
   },
   "outputs": [
    {
     "name": "stdout",
     "output_type": "stream",
     "text": [
      "神，求你賜給我寧靜的心去接受我所不能改變的，\n",
      "賜我勇氣去改變我能改變的，\n",
      "並賜我智慧去分辨這兩者。\n",
      "一天一天的過，欣賞每一個時刻；\n",
      "接受艱難困苦是通向平安的步道。\n",
      "效法耶穌所做的，\n",
      "接受這個有罪的世界的本相，\n",
      "而不是我希望的模樣。\n",
      "如果我降服在你的旨意中，\n",
      "我相信你會使所有的事都正直。\n",
      "因此我能在這個生命中活得有喜樂，\n",
      "而且將來能極度喜樂地和你活在永恆之中。 阿們。\n"
     ]
    }
   ],
   "source": [
    "prayer = '''神，求你賜給我寧靜的心去接受我所不能改變的，\n",
    "賜我勇氣去改變我能改變的，\n",
    "並賜我智慧去分辨這兩者。\n",
    "一天一天的過，欣賞每一個時刻；\n",
    "接受艱難困苦是通向平安的道路。\n",
    "效法耶穌所做的，\n",
    "接受這個有罪的世界的本相，\n",
    "而不是我希望的模樣。\n",
    "如果我降服在你的旨意中，\n",
    "我相信你會使所有的事都正直。\n",
    "因此我能在這個生命中活得有喜樂，\n",
    "而且將來能極度喜樂地和你活在永恆之中。 阿們。'''\n",
    "print prayer"
   ]
  },
  {
   "cell_type": "code",
   "execution_count": 9,
   "metadata": {
    "collapsed": false
   },
   "outputs": [
    {
     "name": "stdout",
     "output_type": "stream",
     "text": [
      "神\n",
      "，\n",
      "求\n",
      "你\n",
      "賜給\n",
      "我寧靜\n",
      "的\n",
      "心去\n",
      "接受\n",
      "我\n",
      "所\n",
      "不能\n",
      "改變\n",
      "的\n",
      "，\n",
      "\n",
      "\n",
      "賜\n",
      "我\n",
      "勇氣\n",
      "去\n",
      "改變\n",
      "我\n",
      "能\n",
      "改變\n",
      "的\n",
      "，\n",
      "\n",
      "\n",
      "並賜\n",
      "我\n",
      "智慧\n",
      "去\n",
      "分辨\n",
      "這兩者\n",
      "。\n",
      "\n",
      "\n",
      "一天\n",
      "一天\n",
      "的過\n",
      "，\n",
      "欣賞\n",
      "每\n",
      "一個\n",
      "時刻\n",
      "；\n",
      "\n",
      "\n",
      "接受\n",
      "艱難\n",
      "困苦\n",
      "是\n",
      "通向\n",
      "平安\n",
      "的\n",
      "步道\n",
      "。\n",
      "\n",
      "\n",
      "效法\n",
      "耶穌\n",
      "所\n",
      "做\n",
      "的\n",
      "，\n",
      "\n",
      "\n",
      "接受\n",
      "這個\n",
      "有罪\n",
      "的\n",
      "世界\n",
      "的\n",
      "本相\n",
      "，\n",
      "\n",
      "\n",
      "而\n",
      "不是\n",
      "我\n",
      "希望\n",
      "的\n",
      "模樣\n",
      "。\n",
      "\n",
      "\n",
      "如果\n",
      "我\n",
      "降服\n",
      "在\n",
      "你\n",
      "的\n",
      "旨意\n",
      "中\n",
      "，\n",
      "\n",
      "\n",
      "我\n",
      "相信\n",
      "你\n",
      "會\n",
      "使\n",
      "所有\n",
      "的\n",
      "事\n",
      "都\n",
      "正直\n",
      "。\n",
      "\n",
      "\n",
      "因此\n",
      "我能\n",
      "在\n",
      "這個\n",
      "生命\n",
      "中活\n",
      "得\n",
      "有喜\n",
      "樂\n",
      "，\n",
      "\n",
      "\n",
      "而且\n",
      "將來\n",
      "能\n",
      "極度\n",
      "喜樂地\n",
      "和\n",
      "你\n",
      "活\n",
      "在\n",
      "永恆\n",
      "之中\n",
      "。\n",
      " \n",
      "阿們\n",
      "。\n"
     ]
    }
   ],
   "source": [
    "import jieba\n",
    "words = jieba.cut(prayer, cut_all=False)\n",
    "for word in words:\n",
    "    print word"
   ]
  },
  {
   "cell_type": "markdown",
   "metadata": {},
   "source": [
    "## STRING-1 = '' , slice "
   ]
  },
  {
   "cell_type": "code",
   "execution_count": 11,
   "metadata": {
    "collapsed": false
   },
   "outputs": [
    {
     "name": "stdout",
     "output_type": "stream",
     "text": [
      "a\n",
      "bc\n",
      "a\\b\n"
     ]
    }
   ],
   "source": [
    "print 'a\\nbc'\n",
    "print 'a\\\\b'\n",
    "print 'a' + 'b'"
   ]
  },
  {
   "cell_type": "code",
   "execution_count": 23,
   "metadata": {
    "collapsed": false
   },
   "outputs": [
    {
     "name": "stdout",
     "output_type": "stream",
     "text": [
      "Na Na Na Na \n",
      "HeyHeyHey\n",
      "Na Na Na Na \n",
      "HeyHeyHey\n",
      "\n",
      "==================\n",
      "tia\n",
      "hisi\n",
      "==================\n",
      "Haharriying\n",
      "Hah\n",
      "Paharriying\n",
      "Haharriying\n",
      "Hhriig\n"
     ]
    }
   ],
   "source": [
    "start = 'Na '*4 +'\\n'\n",
    "middle = 'Hey'*3 +'\\n'\n",
    "print (start+middle+start+middle)\n",
    "print \"==================\"\n",
    "letters = \"thisisagreetingfrompython\"\n",
    "print letters[0] + letters[2] + letters[6]\n",
    "print letters[1:5]  # It don't get the 5th letter.\n",
    "print \"==================\"\n",
    "name = \"Haharriying\"\n",
    "print name[:]\n",
    "print name[0:3]\n",
    "print name.replace('H','P')  #.replace don't change the content of name.\n",
    "print name\n",
    "print name[::2]  # interval is plalced last."
   ]
  },
  {
   "cell_type": "code",
   "execution_count": 24,
   "metadata": {
    "collapsed": false
   },
   "outputs": [
    {
     "name": "stdout",
     "output_type": "stream",
     "text": [
      "aaaaaaaaa\n",
      "aaaaaaaaa\n",
      "bbbbbbbbb\n",
      "9\n",
      "9\n",
      "['', 'b', 'b', 'b', 'b', 'b', 'b', 'b', 'b', 'b']\n",
      "['a', 'a', 'a', 'a', 'a', 'a', 'a', 'a', 'a', '']\n"
     ]
    }
   ],
   "source": [
    "letters=\"ababababababababab\"\n",
    "print letters[::2]\n",
    "print letters[0::2]\n",
    "print letters[1::2]\n",
    "print len(letters[0::2])\n",
    "print len(letters[1::2])\n",
    "print letters.split('a')\n",
    "print letters.split('b')"
   ]
  },
  {
   "cell_type": "code",
   "execution_count": null,
   "metadata": {
    "collapsed": true
   },
   "outputs": [],
   "source": [
    " ## STRING-2 = '', join, split"
   ]
  },
  {
   "cell_type": "code",
   "execution_count": 27,
   "metadata": {
    "collapsed": false
   },
   "outputs": [
    {
     "name": "stdout",
     "output_type": "stream",
     "text": [
      "aaaaaaaaabaaaaaaaaabaaaaaaaaabaaaaaaaaabaaaaaaaaabaaaaaaaaabaaaaaaaaabaaaaaaaaabaaaaaaaaab\n",
      "aaaaaaaaabbbbbbbbb\n"
     ]
    }
   ],
   "source": [
    "newlist =''.join(letters.split('b')).join(letters.split('a'))\n",
    "print newlist\n",
    "data1list=''.join(letters.split('a'))\n",
    "data2list=''.join(letters.split('b'))\n",
    "data3list =data2list+data1list\n",
    "print data3list"
   ]
  },
  {
   "cell_type": "markdown",
   "metadata": {},
   "source": [
    " ## LIST-1 = [], slice, append, remove, insert, ..."
   ]
  },
  {
   "cell_type": "code",
   "execution_count": 28,
   "metadata": {
    "collapsed": false
   },
   "outputs": [
    {
     "name": "stdout",
     "output_type": "stream",
     "text": [
      "['apple', 'orange', 'apple', 'grape', 'strawberry']\n",
      "['orange', 'apple']\n",
      "['apple', 'orange', 'apple', 'grape', 'strawberry', 'pineapple']\n",
      "['apple', 'orange', 'grava', 'apple', 'grape', 'strawberry', 'pineapple']\n",
      "['orange', 'grava', 'apple', 'grape', 'strawberry', 'pineapple']\n",
      "['orange', 'grava', 'grape', 'strawberry', 'pineapple']\n"
     ]
    },
    {
     "ename": "ValueError",
     "evalue": "list.remove(x): x not in list",
     "output_type": "error",
     "traceback": [
      "\u001b[1;31m---------------------------------------------------------------------------\u001b[0m",
      "\u001b[1;31mValueError\u001b[0m                                Traceback (most recent call last)",
      "\u001b[1;32m<ipython-input-28-96b728dc681a>\u001b[0m in \u001b[0;36m<module>\u001b[1;34m()\u001b[0m\n\u001b[0;32m     10\u001b[0m \u001b[0mname\u001b[0m\u001b[1;33m.\u001b[0m\u001b[0mremove\u001b[0m\u001b[1;33m(\u001b[0m\u001b[1;34m'apple'\u001b[0m\u001b[1;33m)\u001b[0m\u001b[1;33m\u001b[0m\u001b[0m\n\u001b[0;32m     11\u001b[0m \u001b[1;32mprint\u001b[0m \u001b[0mname\u001b[0m\u001b[1;33m\u001b[0m\u001b[0m\n\u001b[1;32m---> 12\u001b[1;33m \u001b[0mname\u001b[0m\u001b[1;33m.\u001b[0m\u001b[0mremove\u001b[0m\u001b[1;33m(\u001b[0m\u001b[1;34m'apple'\u001b[0m\u001b[1;33m)\u001b[0m\u001b[1;33m\u001b[0m\u001b[0m\n\u001b[0m",
      "\u001b[1;31mValueError\u001b[0m: list.remove(x): x not in list"
     ]
    }
   ],
   "source": [
    "name = ['apple','orange','apple','grape','strawberry']\n",
    "print name\n",
    "print name[1:3]\n",
    "name.append('pineapple')\n",
    "print name\n",
    "name.insert(2,'grava')\n",
    "print name\n",
    "name.remove('apple') # remove the first \"apple\"\n",
    "print name\n",
    "name.remove('apple') # remove the second \"apple\"\n",
    "print name\n",
    "name.remove('apple') # you can't remove the slice of string (means you can't change the content of the item)"
   ]
  },
  {
   "cell_type": "code",
   "execution_count": 39,
   "metadata": {
    "collapsed": false
   },
   "outputs": [
    {
     "name": "stdout",
     "output_type": "stream",
     "text": [
      "1\n",
      "2\n",
      "3\n"
     ]
    },
    {
     "data": {
      "text/plain": [
       "['orange', 'grape', 'strawberry', 'pineapple']"
      ]
     },
     "execution_count": 39,
     "metadata": {},
     "output_type": "execute_result"
    }
   ],
   "source": [
    "name = ['apple','orange','apple','grape','strawberry','pineapple','apple']\n",
    "name.index('apple') # return the first apple\n",
    "counter = name.count('apple')\n",
    "for i in range(1,counter+1):\n",
    "    print i\n",
    "    name.remove('apple')\n",
    "    i=i+1\n",
    "name"
   ]
  },
  {
   "cell_type": "code",
   "execution_count": 50,
   "metadata": {
    "collapsed": false
   },
   "outputs": [
    {
     "data": {
      "text/plain": [
       "['orange', 'grape', 'strawberry', 'pineapple']"
      ]
     },
     "execution_count": 50,
     "metadata": {},
     "output_type": "execute_result"
    }
   ],
   "source": [
    "name = ['apple','orange','apple','grape','strawberry','pineapple','apple']\n",
    "j=1\n",
    "for ele in name:\n",
    "    if ele == \"apple\":\n",
    "        name.remove('apple')    \n",
    "name"
   ]
  },
  {
   "cell_type": "code",
   "execution_count": null,
   "metadata": {
    "collapsed": true
   },
   "outputs": [],
   "source": [
    "## LIST-2 = [], .sort(), sorted()"
   ]
  },
  {
   "cell_type": "code",
   "execution_count": 57,
   "metadata": {
    "collapsed": false
   },
   "outputs": [
    {
     "name": "stdout",
     "output_type": "stream",
     "text": [
      "['grape', 'orange', 'pineapple', 'strawberry']\n",
      "['orange', 'grape', 'strawberry', 'pineapple']\n",
      "['grape', 'orange', 'pineapple', 'strawberry']\n"
     ]
    }
   ],
   "source": [
    "name = ['orange', 'grape', 'strawberry', 'pineapple']\n",
    "newfruit = sorted(name)  # sorted can't change the name list \n",
    "print newfruit\n",
    "print name\n",
    "name.sort()  # .sort() changes the name list \n",
    "print name"
   ]
  },
  {
   "cell_type": "markdown",
   "metadata": {},
   "source": [
    "## TUPLE=()"
   ]
  },
  {
   "cell_type": "code",
   "execution_count": 59,
   "metadata": {
    "collapsed": false
   },
   "outputs": [
    {
     "name": "stdout",
     "output_type": "stream",
     "text": [
      "<type 'list'>\n",
      "<type 'tuple'>\n"
     ]
    }
   ],
   "source": [
    "datalist = []\n",
    "print type(datalist)\n",
    "datatuple = ()\n",
    "print type(datatuple)"
   ]
  },
  {
   "cell_type": "code",
   "execution_count": 61,
   "metadata": {
    "collapsed": false
   },
   "outputs": [
    {
     "name": "stdout",
     "output_type": "stream",
     "text": [
      "('aaa', 'bbb', 'ccc', 'ddd')\n"
     ]
    }
   ],
   "source": [
    "datatuple=('aaa','bbb','ccc','ddd')\n",
    "print datatuple"
   ]
  },
  {
   "cell_type": "code",
   "execution_count": 65,
   "metadata": {
    "collapsed": false
   },
   "outputs": [
    {
     "ename": "TypeError",
     "evalue": "'tuple' object does not support item assignment",
     "output_type": "error",
     "traceback": [
      "\u001b[1;31m---------------------------------------------------------------------------\u001b[0m",
      "\u001b[1;31mTypeError\u001b[0m                                 Traceback (most recent call last)",
      "\u001b[1;32m<ipython-input-65-fba5df73ce1c>\u001b[0m in \u001b[0;36m<module>\u001b[1;34m()\u001b[0m\n\u001b[0;32m      1\u001b[0m \u001b[0mdatatuple\u001b[0m\u001b[1;33m[\u001b[0m\u001b[1;36m0\u001b[0m\u001b[1;33m]\u001b[0m\u001b[1;33m\u001b[0m\u001b[0m\n\u001b[1;32m----> 2\u001b[1;33m \u001b[0mdatatuple\u001b[0m\u001b[1;33m[\u001b[0m\u001b[1;36m0\u001b[0m\u001b[1;33m]\u001b[0m \u001b[1;33m=\u001b[0m \u001b[1;34m'bbb'\u001b[0m\u001b[1;33m\u001b[0m\u001b[0m\n\u001b[0m",
      "\u001b[1;31mTypeError\u001b[0m: 'tuple' object does not support item assignment"
     ]
    }
   ],
   "source": [
    "datatuple[0] = 'bbb'"
   ]
  },
  {
   "cell_type": "markdown",
   "metadata": {
    "collapsed": true
   },
   "source": [
    "## Dictionary = {}"
   ]
  },
  {
   "cell_type": "code",
   "execution_count": 88,
   "metadata": {
    "collapsed": false
   },
   "outputs": [
    {
     "ename": "TypeError",
     "evalue": "tuple() takes at most 1 argument (3 given)",
     "output_type": "error",
     "traceback": [
      "\u001b[1;31m---------------------------------------------------------------------------\u001b[0m",
      "\u001b[1;31mTypeError\u001b[0m                                 Traceback (most recent call last)",
      "\u001b[1;32m<ipython-input-88-edda8b0d2e66>\u001b[0m in \u001b[0;36m<module>\u001b[1;34m()\u001b[0m\n\u001b[0;32m      1\u001b[0m \u001b[0msdata\u001b[0m \u001b[1;33m=\u001b[0m \u001b[1;34m\"no.1, Charlie, no.2, Mary, no.3, Jerry and Beth\"\u001b[0m\u001b[1;33m\u001b[0m\u001b[0m\n\u001b[0;32m      2\u001b[0m \u001b[0mldata\u001b[0m \u001b[1;33m=\u001b[0m \u001b[0msdata\u001b[0m\u001b[1;33m.\u001b[0m\u001b[0msplit\u001b[0m\u001b[1;33m(\u001b[0m\u001b[1;34m','\u001b[0m\u001b[1;33m)\u001b[0m\u001b[1;33m\u001b[0m\u001b[0m\n\u001b[1;32m----> 3\u001b[1;33m \u001b[0mtuple\u001b[0m\u001b[1;33m(\u001b[0m\u001b[0mldata\u001b[0m\u001b[1;33m[\u001b[0m\u001b[1;36m0\u001b[0m\u001b[1;33m:\u001b[0m\u001b[1;36m2\u001b[0m\u001b[1;33m]\u001b[0m\u001b[1;33m,\u001b[0m\u001b[0mldata\u001b[0m\u001b[1;33m[\u001b[0m\u001b[1;36m2\u001b[0m\u001b[1;33m:\u001b[0m\u001b[1;36m4\u001b[0m\u001b[1;33m]\u001b[0m\u001b[1;33m,\u001b[0m\u001b[0mldata\u001b[0m\u001b[1;33m[\u001b[0m\u001b[1;36m4\u001b[0m\u001b[1;33m:\u001b[0m\u001b[1;36m6\u001b[0m\u001b[1;33m]\u001b[0m\u001b[1;33m)\u001b[0m\u001b[1;33m\u001b[0m\u001b[0m\n\u001b[0m",
      "\u001b[1;31mTypeError\u001b[0m: tuple() takes at most 1 argument (3 given)"
     ]
    }
   ],
   "source": [
    "sdata = \"no.1, Charlie, no.2, Mary, no.3, Jerry and Beth\"\n",
    "ldata = sdata.split(',')\n",
    "tuple(ldata[0:2],ldata[2:4],ldata[4:6])"
   ]
  },
  {
   "cell_type": "code",
   "execution_count": 109,
   "metadata": {
    "collapsed": false
   },
   "outputs": [
    {
     "data": {
      "text/plain": [
       "{'abc': '123', 'xyz': '456'}"
      ]
     },
     "execution_count": 109,
     "metadata": {},
     "output_type": "execute_result"
    }
   ],
   "source": [
    "string = \"abc=123,xyz=456\"\n",
    "dict(x.split('=') for x in string.split(','))"
   ]
  },
  {
   "cell_type": "code",
   "execution_count": 18,
   "metadata": {
    "collapsed": false
   },
   "outputs": [],
   "source": [
    "drinks = {\n",
    "    'martini':{'vodka','vermouth'},\n",
    "    'black russian':{'vodka','kahlua'},\n",
    "    'white russian':{'vodka','kahlua','cream'},\n",
    "    'manhattan':{'rye','vermouth','bitters'},\n",
    "    'screwdriver':{'orange juice','vodka'}\n",
    "}\n",
    "softdrinks = {\n",
    "    'sixteen nights':{'passion fruit juice' , 'Sprite'},\n",
    "    'ice tea':{'black tea','ice cube'}, \n",
    "    'butter beer':{'cream','bear','sugar'}\n",
    "}"
   ]
  },
  {
   "cell_type": "code",
   "execution_count": 25,
   "metadata": {
    "collapsed": false,
    "scrolled": true
   },
   "outputs": [],
   "source": [
    "drinks['martini'] # 取值\n",
    "drinks['cuba libre']={'bacardi', 'coke'} # 新增一筆\n",
    "drinks.update(softdrinks) # 合併"
   ]
  },
  {
   "cell_type": "code",
   "execution_count": 26,
   "metadata": {
    "collapsed": false
   },
   "outputs": [
    {
     "data": {
      "text/plain": [
       "{'black russian': {'kahlua', 'vodka'},\n",
       " 'butter beer': {'bear', 'cream', 'sugar'},\n",
       " 'cuba libre': {'bacardi', 'coke'},\n",
       " 'ice tea': {'black tea', 'ice cube'},\n",
       " 'manhattan': {'bitters', 'rye', 'vermouth'},\n",
       " 'martini': {'vermouth', 'vodka'},\n",
       " 'screwdriver': {'orange juice', 'vodka'},\n",
       " 'sixteen nights': {'Sprite', 'passion fruit juice'},\n",
       " 'white russian': {'cream', 'kahlua', 'vodka'}}"
      ]
     },
     "execution_count": 26,
     "metadata": {},
     "output_type": "execute_result"
    }
   ],
   "source": [
    "drinks"
   ]
  },
  {
   "cell_type": "code",
   "execution_count": 27,
   "metadata": {
    "collapsed": true
   },
   "outputs": [],
   "source": [
    "drinks_menu = drinks.copy()  # duplicate\n",
    "'ice tea' in drinks_menu\n",
    "del drinks['ice tea']\n",
    "del drinks['sixteen nights']"
   ]
  },
  {
   "cell_type": "code",
   "execution_count": 28,
   "metadata": {
    "collapsed": false
   },
   "outputs": [
    {
     "data": {
      "text/plain": [
       "{'black russian': {'kahlua', 'vodka'},\n",
       " 'butter beer': {'bear', 'cream', 'sugar'},\n",
       " 'cuba libre': {'bacardi', 'coke'},\n",
       " 'manhattan': {'bitters', 'rye', 'vermouth'},\n",
       " 'martini': {'vermouth', 'vodka'},\n",
       " 'screwdriver': {'orange juice', 'vodka'},\n",
       " 'white russian': {'cream', 'kahlua', 'vodka'}}"
      ]
     },
     "execution_count": 28,
     "metadata": {},
     "output_type": "execute_result"
    }
   ],
   "source": [
    "drinks"
   ]
  },
  {
   "cell_type": "code",
   "execution_count": 30,
   "metadata": {
    "collapsed": false
   },
   "outputs": [
    {
     "data": {
      "text/plain": [
       "{'black russian': {'kahlua', 'vodka'},\n",
       " 'butter beer': {'bear', 'cream', 'sugar'},\n",
       " 'cuba libre': {'bacardi', 'coke'},\n",
       " 'ice tea': {'black tea', 'ice cube'},\n",
       " 'manhattan': {'bitters', 'rye', 'vermouth'},\n",
       " 'martini': {'vermouth', 'vodka'},\n",
       " 'screwdriver': {'orange juice', 'vodka'},\n",
       " 'sixteen nights': {'Sprite', 'passion fruit juice'},\n",
       " 'white russian': {'cream', 'kahlua', 'vodka'}}"
      ]
     },
     "execution_count": 30,
     "metadata": {},
     "output_type": "execute_result"
    }
   ],
   "source": [
    "drinks_menu"
   ]
  },
  {
   "cell_type": "code",
   "execution_count": 32,
   "metadata": {
    "collapsed": false
   },
   "outputs": [
    {
     "data": {
      "text/plain": [
       "['white russian',\n",
       " 'black russian',\n",
       " 'screwdriver',\n",
       " 'cuba libre',\n",
       " 'butter beer',\n",
       " 'manhattan',\n",
       " 'martini']"
      ]
     },
     "execution_count": 32,
     "metadata": {},
     "output_type": "execute_result"
    }
   ],
   "source": [
    "drinks.keys()  # 取 keys"
   ]
  },
  {
   "cell_type": "code",
   "execution_count": 33,
   "metadata": {
    "collapsed": false
   },
   "outputs": [
    {
     "data": {
      "text/plain": [
       "[{'cream', 'kahlua', 'vodka'},\n",
       " {'kahlua', 'vodka'},\n",
       " {'orange juice', 'vodka'},\n",
       " {'bacardi', 'coke'},\n",
       " {'bear', 'cream', 'sugar'},\n",
       " {'bitters', 'rye', 'vermouth'},\n",
       " {'vermouth', 'vodka'}]"
      ]
     },
     "execution_count": 33,
     "metadata": {},
     "output_type": "execute_result"
    }
   ],
   "source": [
    "drinks.values()  # 取 value"
   ]
  },
  {
   "cell_type": "code",
   "execution_count": 34,
   "metadata": {
    "collapsed": false
   },
   "outputs": [
    {
     "data": {
      "text/plain": [
       "[('white russian', {'cream', 'kahlua', 'vodka'}),\n",
       " ('black russian', {'kahlua', 'vodka'}),\n",
       " ('screwdriver', {'orange juice', 'vodka'}),\n",
       " ('cuba libre', {'bacardi', 'coke'}),\n",
       " ('butter beer', {'bear', 'cream', 'sugar'}),\n",
       " ('manhattan', {'bitters', 'rye', 'vermouth'}),\n",
       " ('martini', {'vermouth', 'vodka'})]"
      ]
     },
     "execution_count": 34,
     "metadata": {},
     "output_type": "execute_result"
    }
   ],
   "source": [
    "drinks.items()  #取 keys and values"
   ]
  },
  {
   "cell_type": "code",
   "execution_count": 44,
   "metadata": {
    "collapsed": false
   },
   "outputs": [
    {
     "name": "stdout",
     "output_type": "stream",
     "text": [
      "set(['vodka', 'kahlua', 'cream'])\n",
      "set(['vodka', 'kahlua'])\n",
      "set(['vodka', 'orange juice'])\n",
      "set(['bacardi', 'coke'])\n",
      "set(['cream', 'bear', 'sugar'])\n",
      "set(['bitters', 'rye', 'vermouth'])\n",
      "set(['vodka', 'vermouth'])\n"
     ]
    }
   ],
   "source": [
    "for name, content in drinks.items():\n",
    "    print content"
   ]
  },
  {
   "cell_type": "code",
   "execution_count": null,
   "metadata": {
    "collapsed": true
   },
   "outputs": [],
   "source": []
  }
 ],
 "metadata": {
  "kernelspec": {
   "display_name": "Python 2",
   "language": "python",
   "name": "python2"
  },
  "language_info": {
   "codemirror_mode": {
    "name": "ipython",
    "version": 2
   },
   "file_extension": ".py",
   "mimetype": "text/x-python",
   "name": "python",
   "nbconvert_exporter": "python",
   "pygments_lexer": "ipython2",
   "version": "2.7.11"
  }
 },
 "nbformat": 4,
 "nbformat_minor": 0
}
