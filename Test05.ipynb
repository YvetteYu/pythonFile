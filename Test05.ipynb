{
 "cells": [
  {
   "cell_type": "markdown",
   "metadata": {},
   "source": [
    "## decorator"
   ]
  },
  {
   "cell_type": "code",
   "execution_count": 30,
   "metadata": {
    "collapsed": true
   },
   "outputs": [],
   "source": [
    "def document_it(func):\n",
    "    def new_function(*args, **kwargs):\n",
    "        print('Running function: ', func.__name__)\n",
    "        print('Positional arguments: ', args)\n",
    "        print('Keyword arguments: ', kwargs)\n",
    "        result = func(*args, **kwargs)\n",
    "        print('Result: ',result)\n",
    "        return result\n",
    "    return new_function"
   ]
  },
  {
   "cell_type": "code",
   "execution_count": 31,
   "metadata": {
    "collapsed": true
   },
   "outputs": [],
   "source": [
    "def square_it(func):\n",
    "    def other_function(*args, **kwargs):\n",
    "        result = func(*args, **kwargs)\n",
    "        return result*result\n",
    "    return other_function"
   ]
  },
  {
   "cell_type": "code",
   "execution_count": 32,
   "metadata": {
    "collapsed": true
   },
   "outputs": [],
   "source": [
    "def add_int(a,b):\n",
    "    return a+b"
   ]
  },
  {
   "cell_type": "code",
   "execution_count": 33,
   "metadata": {
    "collapsed": false
   },
   "outputs": [
    {
     "name": "stdout",
     "output_type": "stream",
     "text": [
      "('Running function: ', 'add_int')\n",
      "('Positional arguments: ', (3, 5))\n",
      "('Keyword arguments: ', {})\n",
      "('Result: ', 8)\n"
     ]
    },
    {
     "data": {
      "text/plain": [
       "64"
      ]
     },
     "execution_count": 33,
     "metadata": {},
     "output_type": "execute_result"
    }
   ],
   "source": [
    "document_addInt = document_it(add_int)         # assign the decorator manually \n",
    "document_addInt(3,5)\n",
    "square_addInt = square_it(add_int)             # assign the decorator manually\n",
    "square_addInt(3,5)"
   ]
  },
  {
   "cell_type": "code",
   "execution_count": 34,
   "metadata": {
    "collapsed": true
   },
   "outputs": [],
   "source": [
    "@document_it\n",
    "def subtract_it(a,b):\n",
    "    return abs(a-b)"
   ]
  },
  {
   "cell_type": "code",
   "execution_count": 35,
   "metadata": {
    "collapsed": false
   },
   "outputs": [
    {
     "name": "stdout",
     "output_type": "stream",
     "text": [
      "('Running function: ', 'subtract_it')\n",
      "('Positional arguments: ', (9, 6))\n",
      "('Keyword arguments: ', {})\n",
      "('Result: ', 3)\n"
     ]
    },
    {
     "data": {
      "text/plain": [
       "3"
      ]
     },
     "execution_count": 35,
     "metadata": {},
     "output_type": "execute_result"
    }
   ],
   "source": [
    "subtract_it(9,6)"
   ]
  },
  {
   "cell_type": "code",
   "execution_count": 36,
   "metadata": {
    "collapsed": true
   },
   "outputs": [],
   "source": [
    "@document_it\n",
    "@square_it\n",
    "def corss_it(a,b):\n",
    "    return a*b"
   ]
  },
  {
   "cell_type": "code",
   "execution_count": 37,
   "metadata": {
    "collapsed": false
   },
   "outputs": [
    {
     "name": "stdout",
     "output_type": "stream",
     "text": [
      "('Running function: ', 'other_function')\n",
      "('Positional arguments: ', (4, 2))\n",
      "('Keyword arguments: ', {})\n",
      "('Result: ', 64)\n"
     ]
    },
    {
     "data": {
      "text/plain": [
       "64"
      ]
     },
     "execution_count": 37,
     "metadata": {},
     "output_type": "execute_result"
    }
   ],
   "source": [
    "corss_it(4,2)"
   ]
  },
  {
   "cell_type": "code",
   "execution_count": null,
   "metadata": {
    "collapsed": true
   },
   "outputs": [],
   "source": [
    "## Generator"
   ]
  }
 ],
 "metadata": {
  "kernelspec": {
   "display_name": "Python 2",
   "language": "python",
   "name": "python2"
  },
  "language_info": {
   "codemirror_mode": {
    "name": "ipython",
    "version": 2
   },
   "file_extension": ".py",
   "mimetype": "text/x-python",
   "name": "python",
   "nbconvert_exporter": "python",
   "pygments_lexer": "ipython2",
   "version": "2.7.11"
  }
 },
 "nbformat": 4,
 "nbformat_minor": 0
}
