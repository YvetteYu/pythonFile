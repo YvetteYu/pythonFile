{
 "cells": [
  {
   "cell_type": "code",
   "execution_count": 181,
   "metadata": {
    "collapsed": false
   },
   "outputs": [
    {
     "name": "stdout",
     "output_type": "stream",
     "text": [
      "<type 'str'>\n",
      "<type 'str'>\n",
      "<type 'str'>\n",
      "<type 'str'>\n"
     ]
    }
   ],
   "source": [
    "import csv\n",
    "import json\n",
    "total=0\n",
    "dic={}\n",
    "with open('E:/project/finish/write_test.json', 'wb') as f_write:\n",
    "    with open('E:/project/finish/test.json', 'r') as f:\n",
    "            for line in f.readlines():\n",
    "                d =  json.loads(line)\n",
    "                list_row=[0,0,0,0,0,0,0]\n",
    "                for z in range(0,len(d)):\n",
    "                    url=d[z]['url'].encode('utf-8')\n",
    "                    titl=d[z]['title'].encode('utf-8')\n",
    "                    category=d[z]['category'].encode('utf-8')\n",
    "                    date=str(d[z]['date'].encode('utf-8'))\n",
    "                    hitcount=str(d[z]['hitcount'])\n",
    "                    keyw=d[z]['keyw'].encode('utf-8')\n",
    "                    comp=d[z]['comp'].encode('utf-8')\n",
    "                    content=d[z]['content'].encode('utf-8')\n",
    "                    article= url+'|'+title+'|'+category+'|'+date+'|'+keyw+'|'+hitcount+'|'+title+'|'+comp+'|'+content+'\\n'\n",
    "                    print type(str(d[z]))\n",
    "                    #all_json=article+\"\\n\"\n",
    "                    #print type(article)\n",
    "                    #print article\n",
    "                    #f_write.write(d1)\n"
   ]
  },
  {
   "cell_type": "code",
   "execution_count": 201,
   "metadata": {
    "collapsed": false
   },
   "outputs": [],
   "source": [
    "import csv\n",
    "import json\n",
    "total=0\n",
    "dic={}\n",
    "\n",
    "with open('E:/project/finish/write_test.json', 'wb') as f_write:\n",
    "    with open('E:/project/finish/test.json', 'r') as f:\n",
    "            for line in f.readlines():\n",
    "                d =  json.loads(line)\n",
    "                d1=\"\"\n",
    "                for z in range(0,len(d)):\n",
    "\n",
    "                    #print type(str(d[z])+\"\\n\")\n",
    "                    #all_json=article+\"\\n\"\n",
    "                    #print type(article)\n",
    "                    #print article\n",
    "                    d1+=str(d[z])+\"\\n\"\n",
    "                f_write.write(d1)"
   ]
  },
  {
   "cell_type": "code",
   "execution_count": null,
   "metadata": {
    "collapsed": false
   },
   "outputs": [],
   "source": [
    "import csv\n",
    "import json\n",
    "news = []\n",
    "with open('E:/project/finish/test.json', 'r') as f:\n",
    "    newsdata = f.readlines()\n",
    "json.loads(line)\n",
    "for line in newsdata:\n",
    "    news.extend(line)                \n",
    "with open('E:/project/finish/write_test.json', 'wb') as fin:\n",
    "    for line in newsdata:\n",
    "        print type(line)\n",
    "        #fin = write(line + '\\n')   "
   ]
  }
 ],
 "metadata": {
  "kernelspec": {
   "display_name": "Python 2",
   "language": "python",
   "name": "python2"
  },
  "language_info": {
   "codemirror_mode": {
    "name": "ipython",
    "version": 2
   },
   "file_extension": ".py",
   "mimetype": "text/x-python",
   "name": "python",
   "nbconvert_exporter": "python",
   "pygments_lexer": "ipython2",
   "version": "2.7.11"
  }
 },
 "nbformat": 4,
 "nbformat_minor": 0
}
