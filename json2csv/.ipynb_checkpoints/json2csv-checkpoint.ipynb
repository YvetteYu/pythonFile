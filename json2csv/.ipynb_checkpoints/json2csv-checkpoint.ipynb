{
 "cells": [
  {
   "cell_type": "code",
   "execution_count": 60,
   "metadata": {
    "collapsed": true
   },
   "outputs": [],
   "source": [
    "# -*- coding: utf-8 -*-"
   ]
  },
  {
   "cell_type": "code",
   "execution_count": 108,
   "metadata": {
    "collapsed": false,
    "scrolled": true
   },
   "outputs": [],
   "source": [
    "import json\n",
    "with open('/Users/yvette/GoogleDrive/forYvette/convert/test.json', 'r') as fin:            \n",
    "    newsdata = json.loads(fin.readline())         # newsdata is a list with 4 dictionaries in content\n",
    "                                                  # There is only one line in the json file"
   ]
  },
  {
   "cell_type": "code",
   "execution_count": 130,
   "metadata": {
    "collapsed": false
   },
   "outputs": [
    {
     "name": "stdout",
     "output_type": "stream",
     "text": [
      "<type 'unicode'>\n",
      "匯豐昨（31）日公布_大陸製造業12月PMI終值為51.5_創下近19個月的新高_也是連續2個月站上象徵景氣擴張的50分水嶺上方_顯示在大陸「穩增長」政策的作用下_整體景氣回升狀態明顯_匯豐樂觀預估_大陸2013年經濟成長可望上看8.6％_匯豐大中華區首席經濟學家屈宏斌表示_大陸製造業PMI已連續4個月上升_12月終值達51.5_創近19個月新高_主要得益於新業務加速成長以及去庫存的動作進入尾聲_在PMI數據公布之後_上證綜指隨即加速上漲_收盤時達到2,233.25點_漲幅1.6％_對大陸經濟敏感的澳元也跳漲升值_逼近1澳元對1.04美元的水準_人民幣兌美元匯價也出現上揚_匯豐的PMI資料指出_12月的新訂單分項指數大幅上升到52.9_創下2011年1月以來的最高水準_產出指數也強勁回升到21個月以來的新高_就業人數、庫存指標等也都保持上升趨勢_唯獨新出口訂單再度滑落到50的分水嶺以下_顯示外需情況依然不樂觀_匯豐數據還顯示_12月份投入成本連續第3個月上揚；11月持平的平均產出價格在12月也出現上揚_並創下14個月來最高紀錄；12月採購量增速明顯_為2011年3月以來最快；成品庫存則連續第3個月下降_但降幅甚微_屈宏斌指出_隨著基礎設施建設全面展開與房地產市場逐漸穩定_大陸經濟在未來幾個月仍能保持成長動力_再加上中國政府所重申的2013年維持增長舉措_他預估_2013年大陸整體經濟成長率有望達到8.6％的水準_受到全球經濟復甦緩慢的影響_大陸整體經濟在2012年表現疲弱_製造業PMI也長期低於50的指標_但在內需回溫的作用下_PMI從2012年第4季開始出現回升_被視為景氣觸底反彈的象徵_大陸官方的PMI數據預計將於今（1）日公布_市場預估該指數也將維持上升趨勢_而路透針對10名分析師的調查則指出_大陸官方的12月製造業PMI將持續上升到51.0_這代表該指數將創下過去8個月以來的新高_\n",
      "陸製造業PMI連4升\n",
      "http://www.chinatimes.com//newspapers/20130101000004-260102\n",
      "42\n"
     ]
    }
   ],
   "source": [
    "print type(newsdata[0]['category'])\n",
    "print newsdata[0]['content']\n",
    "print newsdata[0]['title']\n",
    "print newsdata[0]['url']\n",
    "print newsdata[0]['hitcount']"
   ]
  },
  {
   "cell_type": "code",
   "execution_count": 131,
   "metadata": {
    "collapsed": false,
    "scrolled": true
   },
   "outputs": [
    {
     "ename": "UnicodeEncodeError",
     "evalue": "'ascii' codec can't encode characters in position 0-3: ordinal not in range(128)",
     "output_type": "error",
     "traceback": [
      "\u001b[0;31m---------------------------------------------------------------------------\u001b[0m",
      "\u001b[0;31mUnicodeEncodeError\u001b[0m                        Traceback (most recent call last)",
      "\u001b[0;32m<ipython-input-131-1501f05d2097>\u001b[0m in \u001b[0;36m<module>\u001b[0;34m()\u001b[0m\n\u001b[1;32m      8\u001b[0m     \u001b[0;31m#for line in newsdata:\u001b[0m\u001b[0;34m\u001b[0m\u001b[0;34m\u001b[0m\u001b[0m\n\u001b[1;32m      9\u001b[0m     \u001b[0;31m#    csvout.writerow(line)\u001b[0m\u001b[0;34m\u001b[0m\u001b[0;34m\u001b[0m\u001b[0m\n\u001b[0;32m---> 10\u001b[0;31m     \u001b[0mcsvout\u001b[0m\u001b[0;34m.\u001b[0m\u001b[0mwriterow\u001b[0m\u001b[0;34m(\u001b[0m\u001b[0mnewsdata\u001b[0m\u001b[0;34m[\u001b[0m\u001b[0;36m0\u001b[0m\u001b[0;34m]\u001b[0m\u001b[0;34m)\u001b[0m\u001b[0;34m\u001b[0m\u001b[0m\n\u001b[0m\u001b[1;32m     11\u001b[0m     \u001b[0;31m#csvout.writerow({u'test':u'aajhdjfhgldsjf',u'fine':u'sfhdlhfjlzhld'})\u001b[0m\u001b[0;34m\u001b[0m\u001b[0;34m\u001b[0m\u001b[0m\n",
      "\u001b[0;32m/Users/yvette/anaconda/lib/python2.7/csv.pyc\u001b[0m in \u001b[0;36mwriterow\u001b[0;34m(self, rowdict)\u001b[0m\n\u001b[1;32m    150\u001b[0m \u001b[0;34m\u001b[0m\u001b[0m\n\u001b[1;32m    151\u001b[0m     \u001b[0;32mdef\u001b[0m \u001b[0mwriterow\u001b[0m\u001b[0;34m(\u001b[0m\u001b[0mself\u001b[0m\u001b[0;34m,\u001b[0m \u001b[0mrowdict\u001b[0m\u001b[0;34m)\u001b[0m\u001b[0;34m:\u001b[0m\u001b[0;34m\u001b[0m\u001b[0m\n\u001b[0;32m--> 152\u001b[0;31m         \u001b[0;32mreturn\u001b[0m \u001b[0mself\u001b[0m\u001b[0;34m.\u001b[0m\u001b[0mwriter\u001b[0m\u001b[0;34m.\u001b[0m\u001b[0mwriterow\u001b[0m\u001b[0;34m(\u001b[0m\u001b[0mself\u001b[0m\u001b[0;34m.\u001b[0m\u001b[0m_dict_to_list\u001b[0m\u001b[0;34m(\u001b[0m\u001b[0mrowdict\u001b[0m\u001b[0;34m)\u001b[0m\u001b[0;34m)\u001b[0m\u001b[0;34m\u001b[0m\u001b[0m\n\u001b[0m\u001b[1;32m    153\u001b[0m \u001b[0;34m\u001b[0m\u001b[0m\n\u001b[1;32m    154\u001b[0m     \u001b[0;32mdef\u001b[0m \u001b[0mwriterows\u001b[0m\u001b[0;34m(\u001b[0m\u001b[0mself\u001b[0m\u001b[0;34m,\u001b[0m \u001b[0mrowdicts\u001b[0m\u001b[0;34m)\u001b[0m\u001b[0;34m:\u001b[0m\u001b[0;34m\u001b[0m\u001b[0m\n",
      "\u001b[0;31mUnicodeEncodeError\u001b[0m: 'ascii' codec can't encode characters in position 0-3: ordinal not in range(128)"
     ]
    }
   ],
   "source": [
    "import csv\n",
    "import codecs\n",
    "with codecs.open('/Users/yvette/GoogleDrive/forYvette/convert/write_test2.csv', 'w',encoding='utf-8') as fout:\n",
    "    fieldnames = [u'category',u'content',u'date',u'title',u'url',u'hitcount',u'comp',u'keyw']\n",
    "    #fieldnames = [u'test',u'fine']\n",
    "    csvout = csv.DictWriter(fout,fieldnames=fieldnames)\n",
    "    csvout.writeheader()\n",
    "    #for line in newsdata:\n",
    "    #    csvout.writerow(line)\n",
    "    csvout.writerow(newsdata[0])\n",
    "    #csvout.writerow({u'test':u'aajhdjfhgldsjf',u'fine':u'sfhdlhfjlzhld'})"
   ]
  },
  {
   "cell_type": "code",
   "execution_count": 134,
   "metadata": {
    "collapsed": true
   },
   "outputs": [],
   "source": [
    "import codecs\n",
    "with codecs.open('/Users/yvette/GoogleDrive/forYvette/convert/write_test2.txt', 'w',encoding='utf-8') as fout:\n",
    "    for line in newsdata:\n",
    "        fout.write(str(line).encode('utf-8')+'\\n')"
   ]
  },
  {
   "cell_type": "code",
   "execution_count": null,
   "metadata": {
    "collapsed": true
   },
   "outputs": [],
   "source": []
  }
 ],
 "metadata": {
  "kernelspec": {
   "display_name": "Python 2",
   "language": "python",
   "name": "python2"
  },
  "language_info": {
   "codemirror_mode": {
    "name": "ipython",
    "version": 2
   },
   "file_extension": ".py",
   "mimetype": "text/x-python",
   "name": "python",
   "nbconvert_exporter": "python",
   "pygments_lexer": "ipython2",
   "version": "2.7.11"
  }
 },
 "nbformat": 4,
 "nbformat_minor": 0
}
