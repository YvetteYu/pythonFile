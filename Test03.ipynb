{
 "cells": [
  {
   "cell_type": "code",
   "execution_count": 1,
   "metadata": {
    "collapsed": true
   },
   "outputs": [],
   "source": [
    "import re"
   ]
  },
  {
   "cell_type": "code",
   "execution_count": 51,
   "metadata": {
    "collapsed": false
   },
   "outputs": [],
   "source": [
    "mode1=u'台積'\n",
    "mode2=u'台積電'\n",
    "source=u'台積電薪水很高，但是很操，有線報指出台積很多部門是假數據王國，家大業大，果然藏污納垢積台'\n",
    "m = re.search(mode1, source)\n"
   ]
  },
  {
   "cell_type": "code",
   "execution_count": 52,
   "metadata": {
    "collapsed": false
   },
   "outputs": [
    {
     "name": "stdout",
     "output_type": "stream",
     "text": [
      "<type 'unicode'>\n"
     ]
    }
   ],
   "source": [
    "print type(mode1)"
   ]
  },
  {
   "cell_type": "code",
   "execution_count": 53,
   "metadata": {
    "collapsed": false
   },
   "outputs": [
    {
     "name": "stdout",
     "output_type": "stream",
     "text": [
      "<_sre.SRE_Match object at 0x104b4fcc8>\n"
     ]
    }
   ],
   "source": [
    "print m"
   ]
  },
  {
   "cell_type": "code",
   "execution_count": 3,
   "metadata": {
    "collapsed": false
   },
   "outputs": [],
   "source": [
    "import requests\n",
    "from bs4 import BeautifulSoup as bs\n",
    "import re\n",
    "res = requests.get('http://www.appledaily.com.tw/realtimenews/section/new/')\n",
    "soup = bs(res.text)"
   ]
  },
  {
   "cell_type": "code",
   "execution_count": null,
   "metadata": {
    "collapsed": false
   },
   "outputs": [],
   "source": [
    "print soup"
   ]
  },
  {
   "cell_type": "code",
   "execution_count": 11,
   "metadata": {
    "collapsed": false
   },
   "outputs": [
    {
     "name": "stdout",
     "output_type": "stream",
     "text": [
      "【更新】清水斷崖磯釣秘境　釣客遭浪捲溺斃 45951\n",
      "老天關掉聽力　父子走出金牌木雕路 177\n",
      "台2線車禍意外　客運與休旅車擦撞 403\n",
      "別當蛋黃哥不想起床　專家說用這一招 430\n",
      "三姐弟布丁重新開張？　稱幫阿嬤籌手術費 1807\n",
      "【法廣RFI】 “公開信”：無界董事長欲... 380\n",
      "鄭麗君：幼子未滿2歲　已會爬山 1083\n",
      "【央廣RTI】清明追思祭祖 環保葬正夯 498\n",
      "國5提前北返車潮湧現　羅東交流道回堵逾2... 2696\n",
      "巴格達再傳自殺炸彈攻擊　至少10死45傷 304\n",
      "【更新】力宏唱悼劉天健　妻懷第2胎首亮相 18698\n",
      "【民報蔡育豪專文】報答親恩！美麗島辯護律... 208\n",
      "道奇好有錢　10名傷兵薪水超過光芒釀酒人... 2658\n",
      "家長替小孩拍「臥軌照」　網友：太扯太誇張 3616\n",
      "女星熱戀百億社長頻放閃　遭酸愛上ATM 5991\n",
      "【法廣RFI】《十年》獲獎 港影不再全面... 702\n",
      "【央廣RTI】金山海域浮油多清除 環署：... 302\n",
      "【壹週刊】小賺變賠錢 客怒理專黑白講 2465\n",
      "吃個雞肉飯好冏　少年指插這小洞卡卡　8514\n",
      "清明連假第3天　小人國湧現人潮 854\n",
      "【醫藥新知】不同種族的人都用同一種表情對... 779\n",
      "你駕著霧朦朧來　我卻無法不看見你 2674\n",
      "【央廣RTI】繼承父業 印度喀省首位女省... 386\n",
      "哈日族看過來　全日最大新宿巴士總站今開業 1934\n",
      "義大VS Lamigo　犀牛挑戰4連勝 2249\n",
      "【民報黃慧芬專欄】所謂的不環保，只是沒有... 440\n",
      "【壹週刊】最夯鞋都被Chiara Fer... 2042\n",
      "【壹週刊】好萊塢明星現在正瘋變臉 1751\n",
      "被逮要關10年　通緝犯不要命跳樓逃    8354\n",
      "開放公民記者採訪　蔡其昌：近日內有結果 625\n"
     ]
    }
   ],
   "source": [
    "for entry in soup.select('.rtddt a'):\n",
    "    m = re.match('(?P<title>.*)\\((?P<popularity>\\d+)\\)',entry.select('h1')[0].text)\n",
    "    print m.group('title'), m.group('popularity')"
   ]
  },
  {
   "cell_type": "code",
   "execution_count": 12,
   "metadata": {
    "collapsed": false
   },
   "outputs": [
    {
     "name": "stdout",
     "output_type": "stream",
     "text": [
      "<a href=\"/realtimenews/article/local/20160404/831369/【更新】清水斷崖磯釣秘境　釣客遭浪捲溺斃\" target=\"_blank\">\n",
      "<time>17:36</time>\n",
      "<h2>社會</h2>\n",
      "<h1><font color=\"#ff0000\">【更新】清水斷崖磯釣秘境　釣客遭浪捲溺斃(45951)</font></h1>\n",
      "</a>\n"
     ]
    }
   ],
   "source": [
    "entry = soup.select('.rtddt a')[0]\n",
    "print entry"
   ]
  },
  {
   "cell_type": "code",
   "execution_count": 13,
   "metadata": {
    "collapsed": true
   },
   "outputs": [],
   "source": [
    "titlename = entry.select('h1')[0].text"
   ]
  },
  {
   "cell_type": "code",
   "execution_count": 18,
   "metadata": {
    "collapsed": false
   },
   "outputs": [
    {
     "name": "stdout",
     "output_type": "stream",
     "text": [
      "<type 'unicode'>\n"
     ]
    }
   ],
   "source": [
    "a = titlename\n",
    "print type(a)"
   ]
  },
  {
   "cell_type": "code",
   "execution_count": 15,
   "metadata": {
    "collapsed": false
   },
   "outputs": [
    {
     "name": "stdout",
     "output_type": "stream",
     "text": [
      "開放公民記者採訪　蔡其昌：近日內有結果\n"
     ]
    }
   ],
   "source": [
    "print m.group('title')"
   ]
  },
  {
   "cell_type": "code",
   "execution_count": 16,
   "metadata": {
    "collapsed": false
   },
   "outputs": [
    {
     "name": "stdout",
     "output_type": "stream",
     "text": [
      "625\n"
     ]
    }
   ],
   "source": [
    "print m.group('popularity')"
   ]
  },
  {
   "cell_type": "code",
   "execution_count": 56,
   "metadata": {
    "collapsed": false
   },
   "outputs": [],
   "source": [
    "mode1=u'台北'\n",
    "mode2=u'台北市'\n",
    "source=u'台北市立動物園台北市政府'\n",
    "m = re.search(mode1, source)"
   ]
  },
  {
   "cell_type": "code",
   "execution_count": 57,
   "metadata": {
    "collapsed": false
   },
   "outputs": [
    {
     "name": "stdout",
     "output_type": "stream",
     "text": [
      "<_sre.SRE_Match object at 0x104b4fcc8>\n"
     ]
    }
   ],
   "source": [
    "print m"
   ]
  },
  {
   "cell_type": "code",
   "execution_count": 60,
   "metadata": {
    "collapsed": false
   },
   "outputs": [
    {
     "name": "stdout",
     "output_type": "stream",
     "text": [
      "台北\n"
     ]
    }
   ],
   "source": [
    "print m.group()"
   ]
  },
  {
   "cell_type": "code",
   "execution_count": 72,
   "metadata": {
    "collapsed": false
   },
   "outputs": [],
   "source": [
    "def testlist(filename,datalist):\n",
    "    f = open(filename,'r')\n",
    "    for ele in f.readlines():\n",
    "        #print ele\n",
    "        datalist.append(ele)\n",
    "    datalist = list(sorted(set(datalist)))  \n",
    "    f.close()\n",
    "    print datalist"
   ]
  },
  {
   "cell_type": "code",
   "execution_count": 73,
   "metadata": {
    "collapsed": false
   },
   "outputs": [
    {
     "name": "stdout",
     "output_type": "stream",
     "text": [
      "['a\\n', 'b\\n', 'c\\n', 'd\\n', 'e\\n', 'f\\n', 'g\\n']\n",
      "['\\n', 'a\\n', 'b\\n', 'c\\n', 'd\\n', 'e\\n', 'f\\n', 'g\\n', 'h\\n', 'j\\n', 's\\n']\n"
     ]
    }
   ],
   "source": [
    "datalist=[]\n",
    "testlist('test.txt',datalist)\n",
    "testlist('test2.txt',datalist)"
   ]
  },
  {
   "cell_type": "code",
   "execution_count": null,
   "metadata": {
    "collapsed": true
   },
   "outputs": [],
   "source": []
  }
 ],
 "metadata": {
  "kernelspec": {
   "display_name": "Python 2",
   "language": "python",
   "name": "python2"
  },
  "language_info": {
   "codemirror_mode": {
    "name": "ipython",
    "version": 2
   },
   "file_extension": ".py",
   "mimetype": "text/x-python",
   "name": "python",
   "nbconvert_exporter": "python",
   "pygments_lexer": "ipython2",
   "version": "2.7.11"
  }
 },
 "nbformat": 4,
 "nbformat_minor": 0
}
